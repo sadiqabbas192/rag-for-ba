{
 "cells": [
  {
   "cell_type": "code",
   "execution_count": 15,
   "id": "29741b5c",
   "metadata": {},
   "outputs": [
    {
     "name": "stderr",
     "output_type": "stream",
     "text": [
      "2025-08-17 21:45:47,322 - INFO - Directory already exists: Bihar_Al_Anwaar_PDFs\n"
     ]
    },
    {
     "name": "stdout",
     "output_type": "stream",
     "text": [
      "✅ Part 1 Complete: Libraries imported and download directory created\n",
      "📁 Download directory: c:\\Users\\sadiq\\OneDrive\\Documents\\projects\\rag-for-ba\\Bihar_Al_Anwaar_PDFs\n"
     ]
    }
   ],
   "source": [
    "# Part 1: Setup and Import Libraries\n",
    "import os\n",
    "import requests\n",
    "import time\n",
    "from pathlib import Path\n",
    "from urllib.parse import urljoin\n",
    "import logging\n",
    "\n",
    "# Setup logging to track download progress\n",
    "logging.basicConfig(\n",
    "    level=logging.INFO,\n",
    "    format='%(asctime)s - %(levelname)s - %(message)s'\n",
    ")\n",
    "logger = logging.getLogger(__name__)\n",
    "\n",
    "# Create download directory\n",
    "download_dir = \"Bihar_Al_Anwaar_PDFs\"\n",
    "if not os.path.exists(download_dir):\n",
    "    os.makedirs(download_dir)\n",
    "    logger.info(f\"Created directory: {download_dir}\")\n",
    "else:\n",
    "    logger.info(f\"Directory already exists: {download_dir}\")\n",
    "\n",
    "print(\"✅ Part 1 Complete: Libraries imported and download directory created\")\n",
    "print(f\"📁 Download directory: {os.path.abspath(download_dir)}\")"
   ]
  },
  {
   "cell_type": "code",
   "execution_count": 16,
   "id": "3169d687",
   "metadata": {},
   "outputs": [
    {
     "name": "stdout",
     "output_type": "stream",
     "text": [
      "✅ Part 2 Complete: Download functions defined\n"
     ]
    }
   ],
   "source": [
    "# Part 2: Download Function\n",
    "def download_pdf(url, filename, download_dir, max_retries=3):\n",
    "    \"\"\"\n",
    "    Download a PDF file with retry mechanism\n",
    "    \"\"\"\n",
    "    filepath = os.path.join(download_dir, filename)\n",
    "    \n",
    "    # Check if file already exists\n",
    "    if os.path.exists(filepath):\n",
    "        logger.info(f\"⏭️  {filename} already exists, skipping...\")\n",
    "        return True\n",
    "    \n",
    "    for attempt in range(max_retries):\n",
    "        try:\n",
    "            logger.info(f\"⬇️  Downloading {filename} (Attempt {attempt + 1}/{max_retries})\")\n",
    "            \n",
    "            # Send GET request with headers to mimic browser\n",
    "            headers = {\n",
    "                'User-Agent': 'Mozilla/5.0 (Windows NT 10.0; Win64; x64) AppleWebKit/537.36 (KHTML, like Gecko) Chrome/91.0.4472.124 Safari/537.36',\n",
    "                'Accept': 'application/pdf,application/octet-stream,*/*',\n",
    "                'Accept-Language': 'en-US,en;q=0.9',\n",
    "                'Referer': 'https://hubeali.com/'\n",
    "            }\n",
    "            \n",
    "            response = requests.get(url, headers=headers, stream=True, timeout=30)\n",
    "            response.raise_for_status()\n",
    "            \n",
    "            # Check if response is actually a PDF\n",
    "            content_type = response.headers.get('content-type', '').lower()\n",
    "            if 'pdf' not in content_type and 'octet-stream' not in content_type:\n",
    "                logger.warning(f\"⚠️  Unexpected content type for {filename}: {content_type}\")\n",
    "            \n",
    "            # Download the file\n",
    "            with open(filepath, 'wb') as f:\n",
    "                for chunk in response.iter_content(chunk_size=8192):\n",
    "                    if chunk:\n",
    "                        f.write(chunk)\n",
    "            \n",
    "            # Verify file size\n",
    "            file_size = os.path.getsize(filepath)\n",
    "            if file_size == 0:\n",
    "                os.remove(filepath)\n",
    "                raise Exception(\"Downloaded file is empty\")\n",
    "            \n",
    "            logger.info(f\"✅ {filename} downloaded successfully ({file_size:,} bytes)\")\n",
    "            return True\n",
    "            \n",
    "        except Exception as e:\n",
    "            logger.error(f\"❌ Failed to download {filename}: {str(e)}\")\n",
    "            if os.path.exists(filepath):\n",
    "                os.remove(filepath)\n",
    "            \n",
    "            if attempt < max_retries - 1:\n",
    "                wait_time = (attempt + 1) * 2  # Progressive wait time\n",
    "                logger.info(f\"⏳ Waiting {wait_time} seconds before retry...\")\n",
    "                time.sleep(wait_time)\n",
    "            else:\n",
    "                logger.error(f\"🚫 Failed to download {filename} after {max_retries} attempts\")\n",
    "                return False\n",
    "\n",
    "def check_pdf_exists(url, timeout=10):\n",
    "    \"\"\"\n",
    "    Check if a PDF URL exists without downloading\n",
    "    \"\"\"\n",
    "    try:\n",
    "        headers = {\n",
    "            'User-Agent': 'Mozilla/5.0 (Windows NT 10.0; Win64; x64) AppleWebKit/537.36 (KHTML, like Gecko) Chrome/91.0.4472.124 Safari/537.36'\n",
    "        }\n",
    "        response = requests.head(url, headers=headers, timeout=timeout)\n",
    "        return response.status_code == 200\n",
    "    except:\n",
    "        return False\n",
    "\n",
    "print(\"✅ Part 2 Complete: Download functions defined\")"
   ]
  },
  {
   "cell_type": "code",
   "execution_count": 17,
   "id": "b6a73823",
   "metadata": {},
   "outputs": [
    {
     "name": "stderr",
     "output_type": "stream",
     "text": [
      "2025-08-17 21:45:47,346 - INFO - 📋 Generated 94 PDF URLs\n"
     ]
    },
    {
     "name": "stdout",
     "output_type": "stream",
     "text": [
      "🔍 First 5 URLs to download:\n",
      "   1. https://hubeali.com/books/English-Books/BiharAlAnwaar/BiharAlAnwaar_V1.pdf\n",
      "   2. https://hubeali.com/books/English-Books/BiharAlAnwaar/BiharAlAnwaar_V2.pdf\n",
      "   3. https://hubeali.com/books/English-Books/BiharAlAnwaar/BiharAlAnwaar_V3.pdf\n",
      "   4. https://hubeali.com/books/English-Books/BiharAlAnwaar/BiharAlAnwaar_V4.pdf\n",
      "   5. https://hubeali.com/books/English-Books/BiharAlAnwaar/BiharAlAnwaar_V5.pdf\n",
      "\n",
      "📊 Total volumes to download: 94\n",
      "💾 Download directory: c:\\Users\\sadiq\\OneDrive\\Documents\\projects\\rag-for-ba\\Bihar_Al_Anwaar_PDFs\n"
     ]
    }
   ],
   "source": [
    "# Part 3: URL Generation and Validation\n",
    "def generate_pdf_urls(start_volume=1, end_volume=94):\n",
    "    \"\"\"\n",
    "    Generate PDF URLs for all volumes\n",
    "    \"\"\"\n",
    "    base_url = \"https://hubeali.com/books/English-Books/BiharAlAnwaar/BiharAlAnwaar_V{}.pdf\"\n",
    "    urls = []\n",
    "    \n",
    "    for volume in range(start_volume, end_volume + 1):\n",
    "        url = base_url.format(volume)\n",
    "        filename = f\"BiharAlAnwaar_V{volume}.pdf\"\n",
    "        urls.append((url, filename, volume))\n",
    "    \n",
    "    return urls\n",
    "\n",
    "# Generate all URLs\n",
    "pdf_urls = generate_pdf_urls(1, 94)\n",
    "logger.info(f\"📋 Generated {len(pdf_urls)} PDF URLs\")\n",
    "\n",
    "# Display first few URLs for verification\n",
    "print(\"🔍 First 5 URLs to download:\")\n",
    "for i, (url, filename, volume) in enumerate(pdf_urls[:5]):\n",
    "    print(f\"  {volume:2d}. {url}\")\n",
    "\n",
    "print(f\"\\n📊 Total volumes to download: {len(pdf_urls)}\")\n",
    "print(f\"💾 Download directory: {os.path.abspath(download_dir)}\")"
   ]
  },
  {
   "cell_type": "code",
   "execution_count": 18,
   "id": "f0727414",
   "metadata": {},
   "outputs": [
    {
     "name": "stdout",
     "output_type": "stream",
     "text": [
      "🔍 Validating 5 sample URLs...\n",
      "  Testing Volume 1... ✅ Available\n",
      "  Testing Volume 2... ✅ Available\n",
      "  Testing Volume 48... ✅ Available\n",
      "  Testing Volume 93... ✅ Available\n",
      "  Testing Volume 94... ✅ Available\n",
      "\n",
      "📊 Validation Results: 5/5 URLs are accessible\n",
      "✅ All sample URLs are accessible!\n"
     ]
    }
   ],
   "source": [
    "# Part 4: Quick URL Validation (Optional - you can skip this if you want to start downloading immediately)\n",
    "def validate_sample_urls(sample_size=5):\n",
    "    \"\"\"\n",
    "    Validate a sample of URLs to ensure they exist before starting bulk download\n",
    "    \"\"\"\n",
    "    print(f\"🔍 Validating {sample_size} sample URLs...\")\n",
    "    \n",
    "    # Test first few, middle, and last few volumes\n",
    "    sample_indices = []\n",
    "    if len(pdf_urls) >= sample_size:\n",
    "        sample_indices = [0, 1, len(pdf_urls)//2, len(pdf_urls)-2, len(pdf_urls)-1]\n",
    "    else:\n",
    "        sample_indices = list(range(len(pdf_urls)))\n",
    "    \n",
    "    valid_count = 0\n",
    "    for i in sample_indices[:sample_size]:\n",
    "        url, filename, volume = pdf_urls[i]\n",
    "        print(f\"  Testing Volume {volume}...\", end=\" \")\n",
    "        if check_pdf_exists(url):\n",
    "            print(\"✅ Available\")\n",
    "            valid_count += 1\n",
    "        else:\n",
    "            print(\"❌ Not found\")\n",
    "        time.sleep(1)  # Be nice to the server\n",
    "    \n",
    "    print(f\"\\n📊 Validation Results: {valid_count}/{sample_size} URLs are accessible\")\n",
    "    \n",
    "    if valid_count == 0:\n",
    "        print(\"⚠️  Warning: No URLs were accessible. Please check the base URL pattern.\")\n",
    "        return False\n",
    "    elif valid_count < sample_size:\n",
    "        print(\"⚠️  Warning: Some URLs may not be accessible. This is normal if some volumes don't exist.\")\n",
    "    else:\n",
    "        print(\"✅ All sample URLs are accessible!\")\n",
    "    \n",
    "    return True\n",
    "\n",
    "# Run validation (comment this out if you want to skip validation)\n",
    "validation_result = validate_sample_urls(5)"
   ]
  },
  {
   "cell_type": "code",
   "execution_count": 19,
   "id": "70c4065d",
   "metadata": {},
   "outputs": [
    {
     "name": "stderr",
     "output_type": "stream",
     "text": [
      "2025-08-17 21:45:54,242 - INFO - ⬇️  Downloading BiharAlAnwaar_V1.pdf (Attempt 1/3)\n"
     ]
    },
    {
     "name": "stdout",
     "output_type": "stream",
     "text": [
      "🎯 Ready to start downloading!\n",
      "⚠️  This will download up to 94 PDF files. Make sure you have sufficient disk space.\n",
      "💡 You can interrupt the process with Ctrl+C if needed.\n",
      "🚀 Starting download of 94 volumes...\n",
      "📁 Saving to: c:\\Users\\sadiq\\OneDrive\\Documents\\projects\\rag-for-ba\\Bihar_Al_Anwaar_PDFs\n",
      "⏱️  Delay between downloads: 2 seconds\n",
      "------------------------------------------------------------\n",
      "\n",
      "📖 Progress: 1/94 - Volume 1\n"
     ]
    },
    {
     "name": "stderr",
     "output_type": "stream",
     "text": [
      "2025-08-17 21:45:55,143 - INFO - ✅ BiharAlAnwaar_V1.pdf downloaded successfully (2,282,181 bytes)\n"
     ]
    },
    {
     "name": "stdout",
     "output_type": "stream",
     "text": [
      "📊 Overall Progress: 1.1% (1 successful, 0 failed)\n"
     ]
    },
    {
     "name": "stderr",
     "output_type": "stream",
     "text": [
      "2025-08-17 21:45:57,144 - INFO - ⬇️  Downloading BiharAlAnwaar_V2.pdf (Attempt 1/3)\n"
     ]
    },
    {
     "name": "stdout",
     "output_type": "stream",
     "text": [
      "\n",
      "📖 Progress: 2/94 - Volume 2\n"
     ]
    },
    {
     "name": "stderr",
     "output_type": "stream",
     "text": [
      "2025-08-17 21:45:57,819 - INFO - ✅ BiharAlAnwaar_V2.pdf downloaded successfully (4,203,450 bytes)\n"
     ]
    },
    {
     "name": "stdout",
     "output_type": "stream",
     "text": [
      "📊 Overall Progress: 2.1% (2 successful, 0 failed)\n"
     ]
    },
    {
     "name": "stderr",
     "output_type": "stream",
     "text": [
      "2025-08-17 21:45:59,821 - INFO - ⬇️  Downloading BiharAlAnwaar_V3.pdf (Attempt 1/3)\n"
     ]
    },
    {
     "name": "stdout",
     "output_type": "stream",
     "text": [
      "\n",
      "📖 Progress: 3/94 - Volume 3\n"
     ]
    },
    {
     "name": "stderr",
     "output_type": "stream",
     "text": [
      "2025-08-17 21:46:02,050 - INFO - ✅ BiharAlAnwaar_V3.pdf downloaded successfully (3,710,001 bytes)\n"
     ]
    },
    {
     "name": "stdout",
     "output_type": "stream",
     "text": [
      "📊 Overall Progress: 3.2% (3 successful, 0 failed)\n"
     ]
    },
    {
     "name": "stderr",
     "output_type": "stream",
     "text": [
      "2025-08-17 21:46:04,052 - INFO - ⬇️  Downloading BiharAlAnwaar_V4.pdf (Attempt 1/3)\n"
     ]
    },
    {
     "name": "stdout",
     "output_type": "stream",
     "text": [
      "\n",
      "📖 Progress: 4/94 - Volume 4\n"
     ]
    },
    {
     "name": "stderr",
     "output_type": "stream",
     "text": [
      "2025-08-17 21:46:05,878 - INFO - ✅ BiharAlAnwaar_V4.pdf downloaded successfully (2,951,998 bytes)\n"
     ]
    },
    {
     "name": "stdout",
     "output_type": "stream",
     "text": [
      "📊 Overall Progress: 4.3% (4 successful, 0 failed)\n"
     ]
    },
    {
     "name": "stderr",
     "output_type": "stream",
     "text": [
      "2025-08-17 21:46:07,880 - INFO - ⬇️  Downloading BiharAlAnwaar_V5.pdf (Attempt 1/3)\n"
     ]
    },
    {
     "name": "stdout",
     "output_type": "stream",
     "text": [
      "\n",
      "📖 Progress: 5/94 - Volume 5\n"
     ]
    },
    {
     "name": "stderr",
     "output_type": "stream",
     "text": [
      "2025-08-17 21:46:09,633 - INFO - ✅ BiharAlAnwaar_V5.pdf downloaded successfully (3,397,830 bytes)\n"
     ]
    },
    {
     "name": "stdout",
     "output_type": "stream",
     "text": [
      "📊 Overall Progress: 5.3% (5 successful, 0 failed)\n"
     ]
    },
    {
     "name": "stderr",
     "output_type": "stream",
     "text": [
      "2025-08-17 21:46:11,635 - INFO - ⬇️  Downloading BiharAlAnwaar_V6.pdf (Attempt 1/3)\n"
     ]
    },
    {
     "name": "stdout",
     "output_type": "stream",
     "text": [
      "\n",
      "📖 Progress: 6/94 - Volume 6\n"
     ]
    },
    {
     "name": "stderr",
     "output_type": "stream",
     "text": [
      "2025-08-17 21:46:12,254 - INFO - ✅ BiharAlAnwaar_V6.pdf downloaded successfully (3,641,659 bytes)\n"
     ]
    },
    {
     "name": "stdout",
     "output_type": "stream",
     "text": [
      "📊 Overall Progress: 6.4% (6 successful, 0 failed)\n"
     ]
    },
    {
     "name": "stderr",
     "output_type": "stream",
     "text": [
      "2025-08-17 21:46:14,256 - INFO - ⬇️  Downloading BiharAlAnwaar_V7.pdf (Attempt 1/3)\n"
     ]
    },
    {
     "name": "stdout",
     "output_type": "stream",
     "text": [
      "\n",
      "📖 Progress: 7/94 - Volume 7\n"
     ]
    },
    {
     "name": "stderr",
     "output_type": "stream",
     "text": [
      "2025-08-17 21:46:16,151 - INFO - ✅ BiharAlAnwaar_V7.pdf downloaded successfully (3,881,179 bytes)\n"
     ]
    },
    {
     "name": "stdout",
     "output_type": "stream",
     "text": [
      "📊 Overall Progress: 7.4% (7 successful, 0 failed)\n"
     ]
    },
    {
     "name": "stderr",
     "output_type": "stream",
     "text": [
      "2025-08-17 21:46:18,154 - INFO - ⬇️  Downloading BiharAlAnwaar_V8.pdf (Attempt 1/3)\n"
     ]
    },
    {
     "name": "stdout",
     "output_type": "stream",
     "text": [
      "\n",
      "📖 Progress: 8/94 - Volume 8\n"
     ]
    },
    {
     "name": "stderr",
     "output_type": "stream",
     "text": [
      "2025-08-17 21:46:19,919 - INFO - ✅ BiharAlAnwaar_V8.pdf downloaded successfully (4,046,060 bytes)\n"
     ]
    },
    {
     "name": "stdout",
     "output_type": "stream",
     "text": [
      "📊 Overall Progress: 8.5% (8 successful, 0 failed)\n"
     ]
    },
    {
     "name": "stderr",
     "output_type": "stream",
     "text": [
      "2025-08-17 21:46:21,921 - INFO - ⬇️  Downloading BiharAlAnwaar_V9.pdf (Attempt 1/3)\n"
     ]
    },
    {
     "name": "stdout",
     "output_type": "stream",
     "text": [
      "\n",
      "📖 Progress: 9/94 - Volume 9\n"
     ]
    },
    {
     "name": "stderr",
     "output_type": "stream",
     "text": [
      "2025-08-17 21:46:23,748 - INFO - ✅ BiharAlAnwaar_V9.pdf downloaded successfully (3,595,931 bytes)\n"
     ]
    },
    {
     "name": "stdout",
     "output_type": "stream",
     "text": [
      "📊 Overall Progress: 9.6% (9 successful, 0 failed)\n"
     ]
    },
    {
     "name": "stderr",
     "output_type": "stream",
     "text": [
      "2025-08-17 21:46:25,750 - INFO - ⬇️  Downloading BiharAlAnwaar_V10.pdf (Attempt 1/3)\n"
     ]
    },
    {
     "name": "stdout",
     "output_type": "stream",
     "text": [
      "\n",
      "📖 Progress: 10/94 - Volume 10\n"
     ]
    },
    {
     "name": "stderr",
     "output_type": "stream",
     "text": [
      "2025-08-17 21:46:57,139 - ERROR - ❌ Failed to download BiharAlAnwaar_V10.pdf: HTTPSConnectionPool(host='hubeali.com', port=443): Read timed out.\n",
      "2025-08-17 21:46:57,141 - INFO - ⏳ Waiting 2 seconds before retry...\n",
      "2025-08-17 21:46:59,142 - INFO - ⬇️  Downloading BiharAlAnwaar_V10.pdf (Attempt 2/3)\n",
      "2025-08-17 21:47:05,850 - INFO - ✅ BiharAlAnwaar_V10.pdf downloaded successfully (4,955,702 bytes)\n"
     ]
    },
    {
     "name": "stdout",
     "output_type": "stream",
     "text": [
      "📊 Overall Progress: 10.6% (10 successful, 0 failed)\n"
     ]
    },
    {
     "name": "stderr",
     "output_type": "stream",
     "text": [
      "2025-08-17 21:47:07,852 - INFO - ⬇️  Downloading BiharAlAnwaar_V11.pdf (Attempt 1/3)\n"
     ]
    },
    {
     "name": "stdout",
     "output_type": "stream",
     "text": [
      "\n",
      "📖 Progress: 11/94 - Volume 11\n"
     ]
    },
    {
     "name": "stderr",
     "output_type": "stream",
     "text": [
      "2025-08-17 21:47:09,730 - INFO - ✅ BiharAlAnwaar_V11.pdf downloaded successfully (4,062,586 bytes)\n"
     ]
    },
    {
     "name": "stdout",
     "output_type": "stream",
     "text": [
      "📊 Overall Progress: 11.7% (11 successful, 0 failed)\n"
     ]
    },
    {
     "name": "stderr",
     "output_type": "stream",
     "text": [
      "2025-08-17 21:47:11,732 - INFO - ⬇️  Downloading BiharAlAnwaar_V12.pdf (Attempt 1/3)\n"
     ]
    },
    {
     "name": "stdout",
     "output_type": "stream",
     "text": [
      "\n",
      "📖 Progress: 12/94 - Volume 12\n"
     ]
    },
    {
     "name": "stderr",
     "output_type": "stream",
     "text": [
      "2025-08-17 21:47:13,652 - INFO - ✅ BiharAlAnwaar_V12.pdf downloaded successfully (2,891,832 bytes)\n"
     ]
    },
    {
     "name": "stdout",
     "output_type": "stream",
     "text": [
      "📊 Overall Progress: 12.8% (12 successful, 0 failed)\n"
     ]
    },
    {
     "name": "stderr",
     "output_type": "stream",
     "text": [
      "2025-08-17 21:47:15,654 - INFO - ⬇️  Downloading BiharAlAnwaar_V13.pdf (Attempt 1/3)\n"
     ]
    },
    {
     "name": "stdout",
     "output_type": "stream",
     "text": [
      "\n",
      "📖 Progress: 13/94 - Volume 13\n"
     ]
    },
    {
     "name": "stderr",
     "output_type": "stream",
     "text": [
      "2025-08-17 21:47:18,615 - INFO - ✅ BiharAlAnwaar_V13.pdf downloaded successfully (3,170,662 bytes)\n"
     ]
    },
    {
     "name": "stdout",
     "output_type": "stream",
     "text": [
      "📊 Overall Progress: 13.8% (13 successful, 0 failed)\n"
     ]
    },
    {
     "name": "stderr",
     "output_type": "stream",
     "text": [
      "2025-08-17 21:47:20,617 - INFO - ⬇️  Downloading BiharAlAnwaar_V14.pdf (Attempt 1/3)\n"
     ]
    },
    {
     "name": "stdout",
     "output_type": "stream",
     "text": [
      "\n",
      "📖 Progress: 14/94 - Volume 14\n"
     ]
    },
    {
     "name": "stderr",
     "output_type": "stream",
     "text": [
      "2025-08-17 21:47:22,549 - INFO - ✅ BiharAlAnwaar_V14.pdf downloaded successfully (3,767,734 bytes)\n"
     ]
    },
    {
     "name": "stdout",
     "output_type": "stream",
     "text": [
      "📊 Overall Progress: 14.9% (14 successful, 0 failed)\n"
     ]
    },
    {
     "name": "stderr",
     "output_type": "stream",
     "text": [
      "2025-08-17 21:47:24,551 - INFO - ⬇️  Downloading BiharAlAnwaar_V15.pdf (Attempt 1/3)\n"
     ]
    },
    {
     "name": "stdout",
     "output_type": "stream",
     "text": [
      "\n",
      "📖 Progress: 15/94 - Volume 15\n"
     ]
    },
    {
     "name": "stderr",
     "output_type": "stream",
     "text": [
      "2025-08-17 21:47:26,416 - INFO - ✅ BiharAlAnwaar_V15.pdf downloaded successfully (2,861,611 bytes)\n"
     ]
    },
    {
     "name": "stdout",
     "output_type": "stream",
     "text": [
      "📊 Overall Progress: 16.0% (15 successful, 0 failed)\n"
     ]
    },
    {
     "name": "stderr",
     "output_type": "stream",
     "text": [
      "2025-08-17 21:47:28,418 - INFO - ⬇️  Downloading BiharAlAnwaar_V16.pdf (Attempt 1/3)\n"
     ]
    },
    {
     "name": "stdout",
     "output_type": "stream",
     "text": [
      "\n",
      "📖 Progress: 16/94 - Volume 16\n"
     ]
    },
    {
     "name": "stderr",
     "output_type": "stream",
     "text": [
      "2025-08-17 21:47:30,093 - INFO - ✅ BiharAlAnwaar_V16.pdf downloaded successfully (2,888,307 bytes)\n"
     ]
    },
    {
     "name": "stdout",
     "output_type": "stream",
     "text": [
      "📊 Overall Progress: 17.0% (16 successful, 0 failed)\n"
     ]
    },
    {
     "name": "stderr",
     "output_type": "stream",
     "text": [
      "2025-08-17 21:47:32,094 - INFO - ⬇️  Downloading BiharAlAnwaar_V17.pdf (Attempt 1/3)\n"
     ]
    },
    {
     "name": "stdout",
     "output_type": "stream",
     "text": [
      "\n",
      "📖 Progress: 17/94 - Volume 17\n"
     ]
    },
    {
     "name": "stderr",
     "output_type": "stream",
     "text": [
      "2025-08-17 21:47:34,556 - INFO - ✅ BiharAlAnwaar_V17.pdf downloaded successfully (3,118,462 bytes)\n"
     ]
    },
    {
     "name": "stdout",
     "output_type": "stream",
     "text": [
      "📊 Overall Progress: 18.1% (17 successful, 0 failed)\n"
     ]
    },
    {
     "name": "stderr",
     "output_type": "stream",
     "text": [
      "2025-08-17 21:47:36,557 - INFO - ⬇️  Downloading BiharAlAnwaar_V18.pdf (Attempt 1/3)\n"
     ]
    },
    {
     "name": "stdout",
     "output_type": "stream",
     "text": [
      "\n",
      "📖 Progress: 18/94 - Volume 18\n"
     ]
    },
    {
     "name": "stderr",
     "output_type": "stream",
     "text": [
      "2025-08-17 21:47:38,296 - INFO - ✅ BiharAlAnwaar_V18.pdf downloaded successfully (3,709,411 bytes)\n"
     ]
    },
    {
     "name": "stdout",
     "output_type": "stream",
     "text": [
      "📊 Overall Progress: 19.1% (18 successful, 0 failed)\n"
     ]
    },
    {
     "name": "stderr",
     "output_type": "stream",
     "text": [
      "2025-08-17 21:47:40,298 - INFO - ⬇️  Downloading BiharAlAnwaar_V19.pdf (Attempt 1/3)\n"
     ]
    },
    {
     "name": "stdout",
     "output_type": "stream",
     "text": [
      "\n",
      "📖 Progress: 19/94 - Volume 19\n"
     ]
    },
    {
     "name": "stderr",
     "output_type": "stream",
     "text": [
      "2025-08-17 21:47:42,276 - INFO - ✅ BiharAlAnwaar_V19.pdf downloaded successfully (4,140,264 bytes)\n"
     ]
    },
    {
     "name": "stdout",
     "output_type": "stream",
     "text": [
      "📊 Overall Progress: 20.2% (19 successful, 0 failed)\n"
     ]
    },
    {
     "name": "stderr",
     "output_type": "stream",
     "text": [
      "2025-08-17 21:47:44,278 - INFO - ⬇️  Downloading BiharAlAnwaar_V20.pdf (Attempt 1/3)\n"
     ]
    },
    {
     "name": "stdout",
     "output_type": "stream",
     "text": [
      "\n",
      "📖 Progress: 20/94 - Volume 20\n"
     ]
    },
    {
     "name": "stderr",
     "output_type": "stream",
     "text": [
      "2025-08-17 21:47:46,157 - INFO - ✅ BiharAlAnwaar_V20.pdf downloaded successfully (4,083,685 bytes)\n"
     ]
    },
    {
     "name": "stdout",
     "output_type": "stream",
     "text": [
      "📊 Overall Progress: 21.3% (20 successful, 0 failed)\n"
     ]
    },
    {
     "name": "stderr",
     "output_type": "stream",
     "text": [
      "2025-08-17 21:47:48,159 - INFO - ⬇️  Downloading BiharAlAnwaar_V21.pdf (Attempt 1/3)\n"
     ]
    },
    {
     "name": "stdout",
     "output_type": "stream",
     "text": [
      "\n",
      "📖 Progress: 21/94 - Volume 21\n"
     ]
    },
    {
     "name": "stderr",
     "output_type": "stream",
     "text": [
      "2025-08-17 21:47:50,285 - INFO - ✅ BiharAlAnwaar_V21.pdf downloaded successfully (4,592,620 bytes)\n"
     ]
    },
    {
     "name": "stdout",
     "output_type": "stream",
     "text": [
      "📊 Overall Progress: 22.3% (21 successful, 0 failed)\n"
     ]
    },
    {
     "name": "stderr",
     "output_type": "stream",
     "text": [
      "2025-08-17 21:47:52,286 - INFO - ⬇️  Downloading BiharAlAnwaar_V22.pdf (Attempt 1/3)\n"
     ]
    },
    {
     "name": "stdout",
     "output_type": "stream",
     "text": [
      "\n",
      "📖 Progress: 22/94 - Volume 22\n"
     ]
    },
    {
     "name": "stderr",
     "output_type": "stream",
     "text": [
      "2025-08-17 21:47:54,362 - INFO - ✅ BiharAlAnwaar_V22.pdf downloaded successfully (6,740,196 bytes)\n"
     ]
    },
    {
     "name": "stdout",
     "output_type": "stream",
     "text": [
      "📊 Overall Progress: 23.4% (22 successful, 0 failed)\n"
     ]
    },
    {
     "name": "stderr",
     "output_type": "stream",
     "text": [
      "2025-08-17 21:47:56,364 - INFO - ⬇️  Downloading BiharAlAnwaar_V23.pdf (Attempt 1/3)\n"
     ]
    },
    {
     "name": "stdout",
     "output_type": "stream",
     "text": [
      "\n",
      "📖 Progress: 23/94 - Volume 23\n"
     ]
    },
    {
     "name": "stderr",
     "output_type": "stream",
     "text": [
      "2025-08-17 21:47:58,219 - INFO - ✅ BiharAlAnwaar_V23.pdf downloaded successfully (4,641,892 bytes)\n"
     ]
    },
    {
     "name": "stdout",
     "output_type": "stream",
     "text": [
      "📊 Overall Progress: 24.5% (23 successful, 0 failed)\n"
     ]
    },
    {
     "name": "stderr",
     "output_type": "stream",
     "text": [
      "2025-08-17 21:48:00,221 - INFO - ⬇️  Downloading BiharAlAnwaar_V24.pdf (Attempt 1/3)\n"
     ]
    },
    {
     "name": "stdout",
     "output_type": "stream",
     "text": [
      "\n",
      "📖 Progress: 24/94 - Volume 24\n"
     ]
    },
    {
     "name": "stderr",
     "output_type": "stream",
     "text": [
      "2025-08-17 21:48:02,071 - INFO - ✅ BiharAlAnwaar_V24.pdf downloaded successfully (5,003,150 bytes)\n"
     ]
    },
    {
     "name": "stdout",
     "output_type": "stream",
     "text": [
      "📊 Overall Progress: 25.5% (24 successful, 0 failed)\n"
     ]
    },
    {
     "name": "stderr",
     "output_type": "stream",
     "text": [
      "2025-08-17 21:48:04,073 - INFO - ⬇️  Downloading BiharAlAnwaar_V25.pdf (Attempt 1/3)\n"
     ]
    },
    {
     "name": "stdout",
     "output_type": "stream",
     "text": [
      "\n",
      "📖 Progress: 25/94 - Volume 25\n"
     ]
    },
    {
     "name": "stderr",
     "output_type": "stream",
     "text": [
      "2025-08-17 21:48:06,011 - INFO - ✅ BiharAlAnwaar_V25.pdf downloaded successfully (4,106,678 bytes)\n"
     ]
    },
    {
     "name": "stdout",
     "output_type": "stream",
     "text": [
      "📊 Overall Progress: 26.6% (25 successful, 0 failed)\n"
     ]
    },
    {
     "name": "stderr",
     "output_type": "stream",
     "text": [
      "2025-08-17 21:48:08,012 - INFO - ⬇️  Downloading BiharAlAnwaar_V26.pdf (Attempt 1/3)\n"
     ]
    },
    {
     "name": "stdout",
     "output_type": "stream",
     "text": [
      "\n",
      "📖 Progress: 26/94 - Volume 26\n"
     ]
    },
    {
     "name": "stderr",
     "output_type": "stream",
     "text": [
      "2025-08-17 21:48:09,987 - INFO - ✅ BiharAlAnwaar_V26.pdf downloaded successfully (4,938,905 bytes)\n"
     ]
    },
    {
     "name": "stdout",
     "output_type": "stream",
     "text": [
      "📊 Overall Progress: 27.7% (26 successful, 0 failed)\n"
     ]
    },
    {
     "name": "stderr",
     "output_type": "stream",
     "text": [
      "2025-08-17 21:48:11,988 - INFO - ⬇️  Downloading BiharAlAnwaar_V27.pdf (Attempt 1/3)\n"
     ]
    },
    {
     "name": "stdout",
     "output_type": "stream",
     "text": [
      "\n",
      "📖 Progress: 27/94 - Volume 27\n"
     ]
    },
    {
     "name": "stderr",
     "output_type": "stream",
     "text": [
      "2025-08-17 21:48:13,707 - INFO - ✅ BiharAlAnwaar_V27.pdf downloaded successfully (4,389,370 bytes)\n"
     ]
    },
    {
     "name": "stdout",
     "output_type": "stream",
     "text": [
      "📊 Overall Progress: 28.7% (27 successful, 0 failed)\n"
     ]
    },
    {
     "name": "stderr",
     "output_type": "stream",
     "text": [
      "2025-08-17 21:48:15,709 - INFO - ⬇️  Downloading BiharAlAnwaar_V28.pdf (Attempt 1/3)\n"
     ]
    },
    {
     "name": "stdout",
     "output_type": "stream",
     "text": [
      "\n",
      "📖 Progress: 28/94 - Volume 28\n"
     ]
    },
    {
     "name": "stderr",
     "output_type": "stream",
     "text": [
      "2025-08-17 21:48:17,375 - INFO - ✅ BiharAlAnwaar_V28.pdf downloaded successfully (3,440,659 bytes)\n"
     ]
    },
    {
     "name": "stdout",
     "output_type": "stream",
     "text": [
      "📊 Overall Progress: 29.8% (28 successful, 0 failed)\n"
     ]
    },
    {
     "name": "stderr",
     "output_type": "stream",
     "text": [
      "2025-08-17 21:48:19,377 - INFO - ⬇️  Downloading BiharAlAnwaar_V29.pdf (Attempt 1/3)\n"
     ]
    },
    {
     "name": "stdout",
     "output_type": "stream",
     "text": [
      "\n",
      "📖 Progress: 29/94 - Volume 29\n"
     ]
    },
    {
     "name": "stderr",
     "output_type": "stream",
     "text": [
      "2025-08-17 21:48:21,195 - INFO - ✅ BiharAlAnwaar_V29.pdf downloaded successfully (4,128,445 bytes)\n"
     ]
    },
    {
     "name": "stdout",
     "output_type": "stream",
     "text": [
      "📊 Overall Progress: 30.9% (29 successful, 0 failed)\n"
     ]
    },
    {
     "name": "stderr",
     "output_type": "stream",
     "text": [
      "2025-08-17 21:48:23,197 - INFO - ⬇️  Downloading BiharAlAnwaar_V30.pdf (Attempt 1/3)\n"
     ]
    },
    {
     "name": "stdout",
     "output_type": "stream",
     "text": [
      "\n",
      "📖 Progress: 30/94 - Volume 30\n"
     ]
    },
    {
     "name": "stderr",
     "output_type": "stream",
     "text": [
      "2025-08-17 21:48:24,205 - INFO - ✅ BiharAlAnwaar_V30.pdf downloaded successfully (4,844,890 bytes)\n"
     ]
    },
    {
     "name": "stdout",
     "output_type": "stream",
     "text": [
      "📊 Overall Progress: 31.9% (30 successful, 0 failed)\n"
     ]
    },
    {
     "name": "stderr",
     "output_type": "stream",
     "text": [
      "2025-08-17 21:48:26,207 - INFO - ⬇️  Downloading BiharAlAnwaar_V31.pdf (Attempt 1/3)\n"
     ]
    },
    {
     "name": "stdout",
     "output_type": "stream",
     "text": [
      "\n",
      "📖 Progress: 31/94 - Volume 31\n"
     ]
    },
    {
     "name": "stderr",
     "output_type": "stream",
     "text": [
      "2025-08-17 21:48:28,098 - INFO - ✅ BiharAlAnwaar_V31.pdf downloaded successfully (5,800,267 bytes)\n"
     ]
    },
    {
     "name": "stdout",
     "output_type": "stream",
     "text": [
      "📊 Overall Progress: 33.0% (31 successful, 0 failed)\n"
     ]
    },
    {
     "name": "stderr",
     "output_type": "stream",
     "text": [
      "2025-08-17 21:48:30,100 - INFO - ⬇️  Downloading BiharAlAnwaar_V32.pdf (Attempt 1/3)\n"
     ]
    },
    {
     "name": "stdout",
     "output_type": "stream",
     "text": [
      "\n",
      "📖 Progress: 32/94 - Volume 32\n"
     ]
    },
    {
     "name": "stderr",
     "output_type": "stream",
     "text": [
      "2025-08-17 21:48:37,539 - INFO - ✅ BiharAlAnwaar_V32.pdf downloaded successfully (6,450,014 bytes)\n"
     ]
    },
    {
     "name": "stdout",
     "output_type": "stream",
     "text": [
      "📊 Overall Progress: 34.0% (32 successful, 0 failed)\n"
     ]
    },
    {
     "name": "stderr",
     "output_type": "stream",
     "text": [
      "2025-08-17 21:48:39,541 - INFO - ⬇️  Downloading BiharAlAnwaar_V33.pdf (Attempt 1/3)\n"
     ]
    },
    {
     "name": "stdout",
     "output_type": "stream",
     "text": [
      "\n",
      "📖 Progress: 33/94 - Volume 33\n"
     ]
    },
    {
     "name": "stderr",
     "output_type": "stream",
     "text": [
      "2025-08-17 21:48:40,991 - INFO - ✅ BiharAlAnwaar_V33.pdf downloaded successfully (7,035,534 bytes)\n"
     ]
    },
    {
     "name": "stdout",
     "output_type": "stream",
     "text": [
      "📊 Overall Progress: 35.1% (33 successful, 0 failed)\n"
     ]
    },
    {
     "name": "stderr",
     "output_type": "stream",
     "text": [
      "2025-08-17 21:48:42,993 - INFO - ⬇️  Downloading BiharAlAnwaar_V34.pdf (Attempt 1/3)\n"
     ]
    },
    {
     "name": "stdout",
     "output_type": "stream",
     "text": [
      "\n",
      "📖 Progress: 34/94 - Volume 34\n"
     ]
    },
    {
     "name": "stderr",
     "output_type": "stream",
     "text": [
      "2025-08-17 21:49:14,336 - ERROR - ❌ Failed to download BiharAlAnwaar_V34.pdf: HTTPSConnectionPool(host='hubeali.com', port=443): Read timed out.\n",
      "2025-08-17 21:49:14,337 - INFO - ⏳ Waiting 2 seconds before retry...\n",
      "2025-08-17 21:49:16,338 - INFO - ⬇️  Downloading BiharAlAnwaar_V34.pdf (Attempt 2/3)\n",
      "2025-08-17 21:49:18,069 - INFO - ✅ BiharAlAnwaar_V34.pdf downloaded successfully (3,960,791 bytes)\n"
     ]
    },
    {
     "name": "stdout",
     "output_type": "stream",
     "text": [
      "📊 Overall Progress: 36.2% (34 successful, 0 failed)\n"
     ]
    },
    {
     "name": "stderr",
     "output_type": "stream",
     "text": [
      "2025-08-17 21:49:20,070 - INFO - ⬇️  Downloading BiharAlAnwaar_V35.pdf (Attempt 1/3)\n"
     ]
    },
    {
     "name": "stdout",
     "output_type": "stream",
     "text": [
      "\n",
      "📖 Progress: 35/94 - Volume 35\n"
     ]
    },
    {
     "name": "stderr",
     "output_type": "stream",
     "text": [
      "2025-08-17 21:49:22,293 - INFO - ✅ BiharAlAnwaar_V35.pdf downloaded successfully (5,558,344 bytes)\n"
     ]
    },
    {
     "name": "stdout",
     "output_type": "stream",
     "text": [
      "📊 Overall Progress: 37.2% (35 successful, 0 failed)\n"
     ]
    },
    {
     "name": "stderr",
     "output_type": "stream",
     "text": [
      "2025-08-17 21:49:24,295 - INFO - ⬇️  Downloading BiharAlAnwaar_V36.pdf (Attempt 1/3)\n"
     ]
    },
    {
     "name": "stdout",
     "output_type": "stream",
     "text": [
      "\n",
      "📖 Progress: 36/94 - Volume 36\n"
     ]
    },
    {
     "name": "stderr",
     "output_type": "stream",
     "text": [
      "2025-08-17 21:49:26,262 - INFO - ✅ BiharAlAnwaar_V36.pdf downloaded successfully (6,143,536 bytes)\n"
     ]
    },
    {
     "name": "stdout",
     "output_type": "stream",
     "text": [
      "📊 Overall Progress: 38.3% (36 successful, 0 failed)\n"
     ]
    },
    {
     "name": "stderr",
     "output_type": "stream",
     "text": [
      "2025-08-17 21:49:28,264 - INFO - ⬇️  Downloading BiharAlAnwaar_V37.pdf (Attempt 1/3)\n"
     ]
    },
    {
     "name": "stdout",
     "output_type": "stream",
     "text": [
      "\n",
      "📖 Progress: 37/94 - Volume 37\n"
     ]
    },
    {
     "name": "stderr",
     "output_type": "stream",
     "text": [
      "2025-08-17 21:49:30,109 - INFO - ✅ BiharAlAnwaar_V37.pdf downloaded successfully (4,145,221 bytes)\n"
     ]
    },
    {
     "name": "stdout",
     "output_type": "stream",
     "text": [
      "📊 Overall Progress: 39.4% (37 successful, 0 failed)\n"
     ]
    },
    {
     "name": "stderr",
     "output_type": "stream",
     "text": [
      "2025-08-17 21:49:32,111 - INFO - ⬇️  Downloading BiharAlAnwaar_V38.pdf (Attempt 1/3)\n"
     ]
    },
    {
     "name": "stdout",
     "output_type": "stream",
     "text": [
      "\n",
      "📖 Progress: 38/94 - Volume 38\n"
     ]
    },
    {
     "name": "stderr",
     "output_type": "stream",
     "text": [
      "2025-08-17 21:49:38,319 - INFO - ✅ BiharAlAnwaar_V38.pdf downloaded successfully (5,932,230 bytes)\n"
     ]
    },
    {
     "name": "stdout",
     "output_type": "stream",
     "text": [
      "📊 Overall Progress: 40.4% (38 successful, 0 failed)\n"
     ]
    },
    {
     "name": "stderr",
     "output_type": "stream",
     "text": [
      "2025-08-17 21:49:40,321 - INFO - ⬇️  Downloading BiharAlAnwaar_V39.pdf (Attempt 1/3)\n"
     ]
    },
    {
     "name": "stdout",
     "output_type": "stream",
     "text": [
      "\n",
      "📖 Progress: 39/94 - Volume 39\n"
     ]
    },
    {
     "name": "stderr",
     "output_type": "stream",
     "text": [
      "2025-08-17 21:49:41,474 - INFO - ✅ BiharAlAnwaar_V39.pdf downloaded successfully (5,476,411 bytes)\n"
     ]
    },
    {
     "name": "stdout",
     "output_type": "stream",
     "text": [
      "📊 Overall Progress: 41.5% (39 successful, 0 failed)\n"
     ]
    },
    {
     "name": "stderr",
     "output_type": "stream",
     "text": [
      "2025-08-17 21:49:43,476 - INFO - ⬇️  Downloading BiharAlAnwaar_V40.pdf (Attempt 1/3)\n"
     ]
    },
    {
     "name": "stdout",
     "output_type": "stream",
     "text": [
      "\n",
      "📖 Progress: 40/94 - Volume 40\n"
     ]
    },
    {
     "name": "stderr",
     "output_type": "stream",
     "text": [
      "2025-08-17 21:49:45,461 - INFO - ✅ BiharAlAnwaar_V40.pdf downloaded successfully (5,765,567 bytes)\n"
     ]
    },
    {
     "name": "stdout",
     "output_type": "stream",
     "text": [
      "📊 Overall Progress: 42.6% (40 successful, 0 failed)\n"
     ]
    },
    {
     "name": "stderr",
     "output_type": "stream",
     "text": [
      "2025-08-17 21:49:47,463 - INFO - ⬇️  Downloading BiharAlAnwaar_V41.pdf (Attempt 1/3)\n"
     ]
    },
    {
     "name": "stdout",
     "output_type": "stream",
     "text": [
      "\n",
      "📖 Progress: 41/94 - Volume 41\n"
     ]
    },
    {
     "name": "stderr",
     "output_type": "stream",
     "text": [
      "2025-08-17 21:49:51,426 - INFO - ✅ BiharAlAnwaar_V41.pdf downloaded successfully (5,758,703 bytes)\n"
     ]
    },
    {
     "name": "stdout",
     "output_type": "stream",
     "text": [
      "📊 Overall Progress: 43.6% (41 successful, 0 failed)\n"
     ]
    },
    {
     "name": "stderr",
     "output_type": "stream",
     "text": [
      "2025-08-17 21:49:53,427 - INFO - ⬇️  Downloading BiharAlAnwaar_V42.pdf (Attempt 1/3)\n"
     ]
    },
    {
     "name": "stdout",
     "output_type": "stream",
     "text": [
      "\n",
      "📖 Progress: 42/94 - Volume 42\n"
     ]
    },
    {
     "name": "stderr",
     "output_type": "stream",
     "text": [
      "2025-08-17 21:49:55,597 - INFO - ✅ BiharAlAnwaar_V42.pdf downloaded successfully (5,514,062 bytes)\n"
     ]
    },
    {
     "name": "stdout",
     "output_type": "stream",
     "text": [
      "📊 Overall Progress: 44.7% (42 successful, 0 failed)\n"
     ]
    },
    {
     "name": "stderr",
     "output_type": "stream",
     "text": [
      "2025-08-17 21:49:57,599 - INFO - ⬇️  Downloading BiharAlAnwaar_V43.pdf (Attempt 1/3)\n"
     ]
    },
    {
     "name": "stdout",
     "output_type": "stream",
     "text": [
      "\n",
      "📖 Progress: 43/94 - Volume 43\n"
     ]
    },
    {
     "name": "stderr",
     "output_type": "stream",
     "text": [
      "2025-08-17 21:49:59,036 - INFO - ✅ BiharAlAnwaar_V43.pdf downloaded successfully (6,936,414 bytes)\n"
     ]
    },
    {
     "name": "stdout",
     "output_type": "stream",
     "text": [
      "📊 Overall Progress: 45.7% (43 successful, 0 failed)\n"
     ]
    },
    {
     "name": "stderr",
     "output_type": "stream",
     "text": [
      "2025-08-17 21:50:01,037 - INFO - ⬇️  Downloading BiharAlAnwaar_V44.pdf (Attempt 1/3)\n"
     ]
    },
    {
     "name": "stdout",
     "output_type": "stream",
     "text": [
      "\n",
      "📖 Progress: 44/94 - Volume 44\n"
     ]
    },
    {
     "name": "stderr",
     "output_type": "stream",
     "text": [
      "2025-08-17 21:50:02,611 - INFO - ✅ BiharAlAnwaar_V44.pdf downloaded successfully (6,111,774 bytes)\n"
     ]
    },
    {
     "name": "stdout",
     "output_type": "stream",
     "text": [
      "📊 Overall Progress: 46.8% (44 successful, 0 failed)\n"
     ]
    },
    {
     "name": "stderr",
     "output_type": "stream",
     "text": [
      "2025-08-17 21:50:04,613 - INFO - ⬇️  Downloading BiharAlAnwaar_V45.pdf (Attempt 1/3)\n"
     ]
    },
    {
     "name": "stdout",
     "output_type": "stream",
     "text": [
      "\n",
      "📖 Progress: 45/94 - Volume 45\n"
     ]
    },
    {
     "name": "stderr",
     "output_type": "stream",
     "text": [
      "2025-08-17 21:50:07,230 - INFO - ✅ BiharAlAnwaar_V45.pdf downloaded successfully (7,224,082 bytes)\n"
     ]
    },
    {
     "name": "stdout",
     "output_type": "stream",
     "text": [
      "📊 Overall Progress: 47.9% (45 successful, 0 failed)\n"
     ]
    },
    {
     "name": "stderr",
     "output_type": "stream",
     "text": [
      "2025-08-17 21:50:09,232 - INFO - ⬇️  Downloading BiharAlAnwaar_V46.pdf (Attempt 1/3)\n"
     ]
    },
    {
     "name": "stdout",
     "output_type": "stream",
     "text": [
      "\n",
      "📖 Progress: 46/94 - Volume 46\n"
     ]
    },
    {
     "name": "stderr",
     "output_type": "stream",
     "text": [
      "2025-08-17 21:50:10,505 - INFO - ✅ BiharAlAnwaar_V46.pdf downloaded successfully (6,352,299 bytes)\n"
     ]
    },
    {
     "name": "stdout",
     "output_type": "stream",
     "text": [
      "📊 Overall Progress: 48.9% (46 successful, 0 failed)\n"
     ]
    },
    {
     "name": "stderr",
     "output_type": "stream",
     "text": [
      "2025-08-17 21:50:12,507 - INFO - ⬇️  Downloading BiharAlAnwaar_V47.pdf (Attempt 1/3)\n"
     ]
    },
    {
     "name": "stdout",
     "output_type": "stream",
     "text": [
      "\n",
      "📖 Progress: 47/94 - Volume 47\n"
     ]
    },
    {
     "name": "stderr",
     "output_type": "stream",
     "text": [
      "2025-08-17 21:50:15,349 - INFO - ✅ BiharAlAnwaar_V47.pdf downloaded successfully (7,027,403 bytes)\n"
     ]
    },
    {
     "name": "stdout",
     "output_type": "stream",
     "text": [
      "📊 Overall Progress: 50.0% (47 successful, 0 failed)\n"
     ]
    },
    {
     "name": "stderr",
     "output_type": "stream",
     "text": [
      "2025-08-17 21:50:17,350 - INFO - ⬇️  Downloading BiharAlAnwaar_V48.pdf (Attempt 1/3)\n"
     ]
    },
    {
     "name": "stdout",
     "output_type": "stream",
     "text": [
      "\n",
      "📖 Progress: 48/94 - Volume 48\n"
     ]
    },
    {
     "name": "stderr",
     "output_type": "stream",
     "text": [
      "2025-08-17 21:50:19,683 - INFO - ✅ BiharAlAnwaar_V48.pdf downloaded successfully (5,663,889 bytes)\n"
     ]
    },
    {
     "name": "stdout",
     "output_type": "stream",
     "text": [
      "📊 Overall Progress: 51.1% (48 successful, 0 failed)\n"
     ]
    },
    {
     "name": "stderr",
     "output_type": "stream",
     "text": [
      "2025-08-17 21:50:21,684 - INFO - ⬇️  Downloading BiharAlAnwaar_V49.pdf (Attempt 1/3)\n"
     ]
    },
    {
     "name": "stdout",
     "output_type": "stream",
     "text": [
      "\n",
      "📖 Progress: 49/94 - Volume 49\n"
     ]
    },
    {
     "name": "stderr",
     "output_type": "stream",
     "text": [
      "2025-08-17 21:50:23,674 - INFO - ✅ BiharAlAnwaar_V49.pdf downloaded successfully (5,669,093 bytes)\n"
     ]
    },
    {
     "name": "stdout",
     "output_type": "stream",
     "text": [
      "📊 Overall Progress: 52.1% (49 successful, 0 failed)\n"
     ]
    },
    {
     "name": "stderr",
     "output_type": "stream",
     "text": [
      "2025-08-17 21:50:25,676 - INFO - ⬇️  Downloading BiharAlAnwaar_V50.pdf (Attempt 1/3)\n"
     ]
    },
    {
     "name": "stdout",
     "output_type": "stream",
     "text": [
      "\n",
      "📖 Progress: 50/94 - Volume 50\n"
     ]
    },
    {
     "name": "stderr",
     "output_type": "stream",
     "text": [
      "2025-08-17 21:50:27,695 - INFO - ✅ BiharAlAnwaar_V50.pdf downloaded successfully (5,419,224 bytes)\n"
     ]
    },
    {
     "name": "stdout",
     "output_type": "stream",
     "text": [
      "📊 Overall Progress: 53.2% (50 successful, 0 failed)\n"
     ]
    },
    {
     "name": "stderr",
     "output_type": "stream",
     "text": [
      "2025-08-17 21:50:29,697 - INFO - ⬇️  Downloading BiharAlAnwaar_V51.pdf (Attempt 1/3)\n"
     ]
    },
    {
     "name": "stdout",
     "output_type": "stream",
     "text": [
      "\n",
      "📖 Progress: 51/94 - Volume 51\n"
     ]
    },
    {
     "name": "stderr",
     "output_type": "stream",
     "text": [
      "2025-08-17 21:50:31,661 - INFO - ✅ BiharAlAnwaar_V51.pdf downloaded successfully (5,482,476 bytes)\n"
     ]
    },
    {
     "name": "stdout",
     "output_type": "stream",
     "text": [
      "📊 Overall Progress: 54.3% (51 successful, 0 failed)\n"
     ]
    },
    {
     "name": "stderr",
     "output_type": "stream",
     "text": [
      "2025-08-17 21:50:33,663 - INFO - ⬇️  Downloading BiharAlAnwaar_V52.pdf (Attempt 1/3)\n"
     ]
    },
    {
     "name": "stdout",
     "output_type": "stream",
     "text": [
      "\n",
      "📖 Progress: 52/94 - Volume 52\n"
     ]
    },
    {
     "name": "stderr",
     "output_type": "stream",
     "text": [
      "2025-08-17 21:50:35,655 - INFO - ✅ BiharAlAnwaar_V52.pdf downloaded successfully (6,212,556 bytes)\n"
     ]
    },
    {
     "name": "stdout",
     "output_type": "stream",
     "text": [
      "📊 Overall Progress: 55.3% (52 successful, 0 failed)\n"
     ]
    },
    {
     "name": "stderr",
     "output_type": "stream",
     "text": [
      "2025-08-17 21:50:37,657 - INFO - ⬇️  Downloading BiharAlAnwaar_V53.pdf (Attempt 1/3)\n"
     ]
    },
    {
     "name": "stdout",
     "output_type": "stream",
     "text": [
      "\n",
      "📖 Progress: 53/94 - Volume 53\n"
     ]
    },
    {
     "name": "stderr",
     "output_type": "stream",
     "text": [
      "2025-08-17 21:50:38,753 - INFO - ✅ BiharAlAnwaar_V53.pdf downloaded successfully (5,340,513 bytes)\n"
     ]
    },
    {
     "name": "stdout",
     "output_type": "stream",
     "text": [
      "📊 Overall Progress: 56.4% (53 successful, 0 failed)\n"
     ]
    },
    {
     "name": "stderr",
     "output_type": "stream",
     "text": [
      "2025-08-17 21:50:40,755 - INFO - ⬇️  Downloading BiharAlAnwaar_V54.pdf (Attempt 1/3)\n"
     ]
    },
    {
     "name": "stdout",
     "output_type": "stream",
     "text": [
      "\n",
      "📖 Progress: 54/94 - Volume 54\n"
     ]
    },
    {
     "name": "stderr",
     "output_type": "stream",
     "text": [
      "2025-08-17 21:50:44,704 - INFO - ✅ BiharAlAnwaar_V54.pdf downloaded successfully (3,611,544 bytes)\n"
     ]
    },
    {
     "name": "stdout",
     "output_type": "stream",
     "text": [
      "📊 Overall Progress: 57.4% (54 successful, 0 failed)\n"
     ]
    },
    {
     "name": "stderr",
     "output_type": "stream",
     "text": [
      "2025-08-17 21:50:46,707 - INFO - ⬇️  Downloading BiharAlAnwaar_V55.pdf (Attempt 1/3)\n"
     ]
    },
    {
     "name": "stdout",
     "output_type": "stream",
     "text": [
      "\n",
      "📖 Progress: 55/94 - Volume 55\n"
     ]
    },
    {
     "name": "stderr",
     "output_type": "stream",
     "text": [
      "2025-08-17 21:50:48,526 - INFO - ✅ BiharAlAnwaar_V55.pdf downloaded successfully (3,859,966 bytes)\n"
     ]
    },
    {
     "name": "stdout",
     "output_type": "stream",
     "text": [
      "📊 Overall Progress: 58.5% (55 successful, 0 failed)\n"
     ]
    },
    {
     "name": "stderr",
     "output_type": "stream",
     "text": [
      "2025-08-17 21:50:50,528 - INFO - ⬇️  Downloading BiharAlAnwaar_V56.pdf (Attempt 1/3)\n"
     ]
    },
    {
     "name": "stdout",
     "output_type": "stream",
     "text": [
      "\n",
      "📖 Progress: 56/94 - Volume 56\n"
     ]
    },
    {
     "name": "stderr",
     "output_type": "stream",
     "text": [
      "2025-08-17 21:50:52,585 - INFO - ✅ BiharAlAnwaar_V56.pdf downloaded successfully (5,189,134 bytes)\n"
     ]
    },
    {
     "name": "stdout",
     "output_type": "stream",
     "text": [
      "📊 Overall Progress: 59.6% (56 successful, 0 failed)\n"
     ]
    },
    {
     "name": "stderr",
     "output_type": "stream",
     "text": [
      "2025-08-17 21:50:54,586 - INFO - ⬇️  Downloading BiharAlAnwaar_V57.pdf (Attempt 1/3)\n"
     ]
    },
    {
     "name": "stdout",
     "output_type": "stream",
     "text": [
      "\n",
      "📖 Progress: 57/94 - Volume 57\n"
     ]
    },
    {
     "name": "stderr",
     "output_type": "stream",
     "text": [
      "2025-08-17 21:50:56,466 - INFO - ✅ BiharAlAnwaar_V57.pdf downloaded successfully (4,797,064 bytes)\n"
     ]
    },
    {
     "name": "stdout",
     "output_type": "stream",
     "text": [
      "📊 Overall Progress: 60.6% (57 successful, 0 failed)\n"
     ]
    },
    {
     "name": "stderr",
     "output_type": "stream",
     "text": [
      "2025-08-17 21:50:58,468 - INFO - ⬇️  Downloading BiharAlAnwaar_V58.pdf (Attempt 1/3)\n"
     ]
    },
    {
     "name": "stdout",
     "output_type": "stream",
     "text": [
      "\n",
      "📖 Progress: 58/94 - Volume 58\n"
     ]
    },
    {
     "name": "stderr",
     "output_type": "stream",
     "text": [
      "2025-08-17 21:51:00,174 - INFO - ✅ BiharAlAnwaar_V58.pdf downloaded successfully (3,345,858 bytes)\n"
     ]
    },
    {
     "name": "stdout",
     "output_type": "stream",
     "text": [
      "📊 Overall Progress: 61.7% (58 successful, 0 failed)\n"
     ]
    },
    {
     "name": "stderr",
     "output_type": "stream",
     "text": [
      "2025-08-17 21:51:02,176 - INFO - ⬇️  Downloading BiharAlAnwaar_V59.pdf (Attempt 1/3)\n"
     ]
    },
    {
     "name": "stdout",
     "output_type": "stream",
     "text": [
      "\n",
      "📖 Progress: 59/94 - Volume 59\n"
     ]
    },
    {
     "name": "stderr",
     "output_type": "stream",
     "text": [
      "2025-08-17 21:51:03,973 - INFO - ✅ BiharAlAnwaar_V59.pdf downloaded successfully (4,003,215 bytes)\n"
     ]
    },
    {
     "name": "stdout",
     "output_type": "stream",
     "text": [
      "📊 Overall Progress: 62.8% (59 successful, 0 failed)\n"
     ]
    },
    {
     "name": "stderr",
     "output_type": "stream",
     "text": [
      "2025-08-17 21:51:05,975 - INFO - ⬇️  Downloading BiharAlAnwaar_V60.pdf (Attempt 1/3)\n"
     ]
    },
    {
     "name": "stdout",
     "output_type": "stream",
     "text": [
      "\n",
      "📖 Progress: 60/94 - Volume 60\n"
     ]
    },
    {
     "name": "stderr",
     "output_type": "stream",
     "text": [
      "2025-08-17 21:51:07,868 - INFO - ✅ BiharAlAnwaar_V60.pdf downloaded successfully (4,313,693 bytes)\n"
     ]
    },
    {
     "name": "stdout",
     "output_type": "stream",
     "text": [
      "📊 Overall Progress: 63.8% (60 successful, 0 failed)\n"
     ]
    },
    {
     "name": "stderr",
     "output_type": "stream",
     "text": [
      "2025-08-17 21:51:09,870 - INFO - ⬇️  Downloading BiharAlAnwaar_V61.pdf (Attempt 1/3)\n"
     ]
    },
    {
     "name": "stdout",
     "output_type": "stream",
     "text": [
      "\n",
      "📖 Progress: 61/94 - Volume 61\n"
     ]
    },
    {
     "name": "stderr",
     "output_type": "stream",
     "text": [
      "2025-08-17 21:51:11,809 - INFO - ✅ BiharAlAnwaar_V61.pdf downloaded successfully (3,557,157 bytes)\n"
     ]
    },
    {
     "name": "stdout",
     "output_type": "stream",
     "text": [
      "📊 Overall Progress: 64.9% (61 successful, 0 failed)\n"
     ]
    },
    {
     "name": "stderr",
     "output_type": "stream",
     "text": [
      "2025-08-17 21:51:13,811 - INFO - ⬇️  Downloading BiharAlAnwaar_V62.pdf (Attempt 1/3)\n"
     ]
    },
    {
     "name": "stdout",
     "output_type": "stream",
     "text": [
      "\n",
      "📖 Progress: 62/94 - Volume 62\n"
     ]
    },
    {
     "name": "stderr",
     "output_type": "stream",
     "text": [
      "2025-08-17 21:51:15,733 - INFO - ✅ BiharAlAnwaar_V62.pdf downloaded successfully (3,682,716 bytes)\n"
     ]
    },
    {
     "name": "stdout",
     "output_type": "stream",
     "text": [
      "📊 Overall Progress: 66.0% (62 successful, 0 failed)\n"
     ]
    },
    {
     "name": "stderr",
     "output_type": "stream",
     "text": [
      "2025-08-17 21:51:17,735 - INFO - ⬇️  Downloading BiharAlAnwaar_V63.pdf (Attempt 1/3)\n"
     ]
    },
    {
     "name": "stdout",
     "output_type": "stream",
     "text": [
      "\n",
      "📖 Progress: 63/94 - Volume 63\n"
     ]
    },
    {
     "name": "stderr",
     "output_type": "stream",
     "text": [
      "2025-08-17 21:51:19,778 - INFO - ✅ BiharAlAnwaar_V63.pdf downloaded successfully (6,950,322 bytes)\n"
     ]
    },
    {
     "name": "stdout",
     "output_type": "stream",
     "text": [
      "📊 Overall Progress: 67.0% (63 successful, 0 failed)\n"
     ]
    },
    {
     "name": "stderr",
     "output_type": "stream",
     "text": [
      "2025-08-17 21:51:21,780 - INFO - ⬇️  Downloading BiharAlAnwaar_V64.pdf (Attempt 1/3)\n"
     ]
    },
    {
     "name": "stdout",
     "output_type": "stream",
     "text": [
      "\n",
      "📖 Progress: 64/94 - Volume 64\n"
     ]
    },
    {
     "name": "stderr",
     "output_type": "stream",
     "text": [
      "2025-08-17 21:51:23,514 - INFO - ✅ BiharAlAnwaar_V64.pdf downloaded successfully (4,169,019 bytes)\n"
     ]
    },
    {
     "name": "stdout",
     "output_type": "stream",
     "text": [
      "📊 Overall Progress: 68.1% (64 successful, 0 failed)\n"
     ]
    },
    {
     "name": "stderr",
     "output_type": "stream",
     "text": [
      "2025-08-17 21:51:25,516 - INFO - ⬇️  Downloading BiharAlAnwaar_V65.pdf (Attempt 1/3)\n"
     ]
    },
    {
     "name": "stdout",
     "output_type": "stream",
     "text": [
      "\n",
      "📖 Progress: 65/94 - Volume 65\n"
     ]
    },
    {
     "name": "stderr",
     "output_type": "stream",
     "text": [
      "2025-08-17 21:51:27,591 - INFO - ✅ BiharAlAnwaar_V65.pdf downloaded successfully (5,261,490 bytes)\n"
     ]
    },
    {
     "name": "stdout",
     "output_type": "stream",
     "text": [
      "📊 Overall Progress: 69.1% (65 successful, 0 failed)\n"
     ]
    },
    {
     "name": "stderr",
     "output_type": "stream",
     "text": [
      "2025-08-17 21:51:29,592 - INFO - ⬇️  Downloading BiharAlAnwaar_V66.pdf (Attempt 1/3)\n"
     ]
    },
    {
     "name": "stdout",
     "output_type": "stream",
     "text": [
      "\n",
      "📖 Progress: 66/94 - Volume 66\n"
     ]
    },
    {
     "name": "stderr",
     "output_type": "stream",
     "text": [
      "2025-08-17 21:51:31,555 - INFO - ✅ BiharAlAnwaar_V66.pdf downloaded successfully (4,329,551 bytes)\n"
     ]
    },
    {
     "name": "stdout",
     "output_type": "stream",
     "text": [
      "📊 Overall Progress: 70.2% (66 successful, 0 failed)\n"
     ]
    },
    {
     "name": "stderr",
     "output_type": "stream",
     "text": [
      "2025-08-17 21:51:33,556 - INFO - ⬇️  Downloading BiharAlAnwaar_V67.pdf (Attempt 1/3)\n"
     ]
    },
    {
     "name": "stdout",
     "output_type": "stream",
     "text": [
      "\n",
      "📖 Progress: 67/94 - Volume 67\n"
     ]
    },
    {
     "name": "stderr",
     "output_type": "stream",
     "text": [
      "2025-08-17 21:51:35,546 - INFO - ✅ BiharAlAnwaar_V67.pdf downloaded successfully (5,247,335 bytes)\n"
     ]
    },
    {
     "name": "stdout",
     "output_type": "stream",
     "text": [
      "📊 Overall Progress: 71.3% (67 successful, 0 failed)\n"
     ]
    },
    {
     "name": "stderr",
     "output_type": "stream",
     "text": [
      "2025-08-17 21:51:37,547 - INFO - ⬇️  Downloading BiharAlAnwaar_V68.pdf (Attempt 1/3)\n"
     ]
    },
    {
     "name": "stdout",
     "output_type": "stream",
     "text": [
      "\n",
      "📖 Progress: 68/94 - Volume 68\n"
     ]
    },
    {
     "name": "stderr",
     "output_type": "stream",
     "text": [
      "2025-08-17 21:51:39,445 - INFO - ✅ BiharAlAnwaar_V68.pdf downloaded successfully (5,478,298 bytes)\n"
     ]
    },
    {
     "name": "stdout",
     "output_type": "stream",
     "text": [
      "📊 Overall Progress: 72.3% (68 successful, 0 failed)\n"
     ]
    },
    {
     "name": "stderr",
     "output_type": "stream",
     "text": [
      "2025-08-17 21:51:41,447 - INFO - ⬇️  Downloading BiharAlAnwaar_V69.pdf (Attempt 1/3)\n"
     ]
    },
    {
     "name": "stdout",
     "output_type": "stream",
     "text": [
      "\n",
      "📖 Progress: 69/94 - Volume 69\n"
     ]
    },
    {
     "name": "stderr",
     "output_type": "stream",
     "text": [
      "2025-08-17 21:51:43,393 - INFO - ✅ BiharAlAnwaar_V69.pdf downloaded successfully (4,256,285 bytes)\n"
     ]
    },
    {
     "name": "stdout",
     "output_type": "stream",
     "text": [
      "📊 Overall Progress: 73.4% (69 successful, 0 failed)\n"
     ]
    },
    {
     "name": "stderr",
     "output_type": "stream",
     "text": [
      "2025-08-17 21:51:45,395 - INFO - ⬇️  Downloading BiharAlAnwaar_V70.pdf (Attempt 1/3)\n"
     ]
    },
    {
     "name": "stdout",
     "output_type": "stream",
     "text": [
      "\n",
      "📖 Progress: 70/94 - Volume 70\n"
     ]
    },
    {
     "name": "stderr",
     "output_type": "stream",
     "text": [
      "2025-08-17 21:51:47,239 - INFO - ✅ BiharAlAnwaar_V70.pdf downloaded successfully (3,877,607 bytes)\n"
     ]
    },
    {
     "name": "stdout",
     "output_type": "stream",
     "text": [
      "📊 Overall Progress: 74.5% (70 successful, 0 failed)\n"
     ]
    },
    {
     "name": "stderr",
     "output_type": "stream",
     "text": [
      "2025-08-17 21:51:49,241 - INFO - ⬇️  Downloading BiharAlAnwaar_V71.pdf (Attempt 1/3)\n"
     ]
    },
    {
     "name": "stdout",
     "output_type": "stream",
     "text": [
      "\n",
      "📖 Progress: 71/94 - Volume 71\n"
     ]
    },
    {
     "name": "stderr",
     "output_type": "stream",
     "text": [
      "2025-08-17 21:51:51,347 - INFO - ✅ BiharAlAnwaar_V71.pdf downloaded successfully (6,254,049 bytes)\n"
     ]
    },
    {
     "name": "stdout",
     "output_type": "stream",
     "text": [
      "📊 Overall Progress: 75.5% (71 successful, 0 failed)\n"
     ]
    },
    {
     "name": "stderr",
     "output_type": "stream",
     "text": [
      "2025-08-17 21:51:53,348 - INFO - ⬇️  Downloading BiharAlAnwaar_V72.pdf (Attempt 1/3)\n"
     ]
    },
    {
     "name": "stdout",
     "output_type": "stream",
     "text": [
      "\n",
      "📖 Progress: 72/94 - Volume 72\n"
     ]
    },
    {
     "name": "stderr",
     "output_type": "stream",
     "text": [
      "2025-08-17 21:51:55,285 - INFO - ✅ BiharAlAnwaar_V72.pdf downloaded successfully (7,155,214 bytes)\n"
     ]
    },
    {
     "name": "stdout",
     "output_type": "stream",
     "text": [
      "📊 Overall Progress: 76.6% (72 successful, 0 failed)\n"
     ]
    },
    {
     "name": "stderr",
     "output_type": "stream",
     "text": [
      "2025-08-17 21:51:57,287 - INFO - ⬇️  Downloading BiharAlAnwaar_V73.pdf (Attempt 1/3)\n"
     ]
    },
    {
     "name": "stdout",
     "output_type": "stream",
     "text": [
      "\n",
      "📖 Progress: 73/94 - Volume 73\n"
     ]
    },
    {
     "name": "stderr",
     "output_type": "stream",
     "text": [
      "2025-08-17 21:51:59,674 - INFO - ✅ BiharAlAnwaar_V73.pdf downloaded successfully (7,389,599 bytes)\n"
     ]
    },
    {
     "name": "stdout",
     "output_type": "stream",
     "text": [
      "📊 Overall Progress: 77.7% (73 successful, 0 failed)\n"
     ]
    },
    {
     "name": "stderr",
     "output_type": "stream",
     "text": [
      "2025-08-17 21:52:01,675 - INFO - ⬇️  Downloading BiharAlAnwaar_V74.pdf (Attempt 1/3)\n"
     ]
    },
    {
     "name": "stdout",
     "output_type": "stream",
     "text": [
      "\n",
      "📖 Progress: 74/94 - Volume 74\n"
     ]
    },
    {
     "name": "stderr",
     "output_type": "stream",
     "text": [
      "2025-08-17 21:52:03,681 - INFO - ✅ BiharAlAnwaar_V74.pdf downloaded successfully (7,042,597 bytes)\n"
     ]
    },
    {
     "name": "stdout",
     "output_type": "stream",
     "text": [
      "📊 Overall Progress: 78.7% (74 successful, 0 failed)\n"
     ]
    },
    {
     "name": "stderr",
     "output_type": "stream",
     "text": [
      "2025-08-17 21:52:05,683 - INFO - ⬇️  Downloading BiharAlAnwaar_V75.pdf (Attempt 1/3)\n"
     ]
    },
    {
     "name": "stdout",
     "output_type": "stream",
     "text": [
      "\n",
      "📖 Progress: 75/94 - Volume 75\n"
     ]
    },
    {
     "name": "stderr",
     "output_type": "stream",
     "text": [
      "2025-08-17 21:52:07,990 - INFO - ✅ BiharAlAnwaar_V75.pdf downloaded successfully (8,174,884 bytes)\n"
     ]
    },
    {
     "name": "stdout",
     "output_type": "stream",
     "text": [
      "📊 Overall Progress: 79.8% (75 successful, 0 failed)\n"
     ]
    },
    {
     "name": "stderr",
     "output_type": "stream",
     "text": [
      "2025-08-17 21:52:09,992 - INFO - ⬇️  Downloading BiharAlAnwaar_V76.pdf (Attempt 1/3)\n"
     ]
    },
    {
     "name": "stdout",
     "output_type": "stream",
     "text": [
      "\n",
      "📖 Progress: 76/94 - Volume 76\n"
     ]
    },
    {
     "name": "stderr",
     "output_type": "stream",
     "text": [
      "2025-08-17 21:52:41,311 - ERROR - ❌ Failed to download BiharAlAnwaar_V76.pdf: HTTPSConnectionPool(host='hubeali.com', port=443): Read timed out.\n",
      "2025-08-17 21:52:41,313 - INFO - ⏳ Waiting 2 seconds before retry...\n",
      "2025-08-17 21:52:43,313 - INFO - ⬇️  Downloading BiharAlAnwaar_V76.pdf (Attempt 2/3)\n",
      "2025-08-17 21:52:43,929 - INFO - ✅ BiharAlAnwaar_V76.pdf downloaded successfully (4,914,822 bytes)\n"
     ]
    },
    {
     "name": "stdout",
     "output_type": "stream",
     "text": [
      "📊 Overall Progress: 80.9% (76 successful, 0 failed)\n"
     ]
    },
    {
     "name": "stderr",
     "output_type": "stream",
     "text": [
      "2025-08-17 21:52:45,930 - INFO - ⬇️  Downloading BiharAlAnwaar_V77.pdf (Attempt 1/3)\n"
     ]
    },
    {
     "name": "stdout",
     "output_type": "stream",
     "text": [
      "\n",
      "📖 Progress: 77/94 - Volume 77\n"
     ]
    },
    {
     "name": "stderr",
     "output_type": "stream",
     "text": [
      "2025-08-17 21:52:47,678 - INFO - ✅ BiharAlAnwaar_V77.pdf downloaded successfully (3,730,622 bytes)\n"
     ]
    },
    {
     "name": "stdout",
     "output_type": "stream",
     "text": [
      "📊 Overall Progress: 81.9% (77 successful, 0 failed)\n"
     ]
    },
    {
     "name": "stderr",
     "output_type": "stream",
     "text": [
      "2025-08-17 21:52:49,680 - INFO - ⬇️  Downloading BiharAlAnwaar_V78.pdf (Attempt 1/3)\n"
     ]
    },
    {
     "name": "stdout",
     "output_type": "stream",
     "text": [
      "\n",
      "📖 Progress: 78/94 - Volume 78\n"
     ]
    },
    {
     "name": "stderr",
     "output_type": "stream",
     "text": [
      "2025-08-17 21:52:51,522 - INFO - ✅ BiharAlAnwaar_V78.pdf downloaded successfully (4,784,489 bytes)\n"
     ]
    },
    {
     "name": "stdout",
     "output_type": "stream",
     "text": [
      "📊 Overall Progress: 83.0% (78 successful, 0 failed)\n"
     ]
    },
    {
     "name": "stderr",
     "output_type": "stream",
     "text": [
      "2025-08-17 21:52:53,523 - INFO - ⬇️  Downloading BiharAlAnwaar_V79.pdf (Attempt 1/3)\n"
     ]
    },
    {
     "name": "stdout",
     "output_type": "stream",
     "text": [
      "\n",
      "📖 Progress: 79/94 - Volume 79\n"
     ]
    },
    {
     "name": "stderr",
     "output_type": "stream",
     "text": [
      "2025-08-17 21:52:55,320 - INFO - ✅ BiharAlAnwaar_V79.pdf downloaded successfully (4,545,866 bytes)\n"
     ]
    },
    {
     "name": "stdout",
     "output_type": "stream",
     "text": [
      "📊 Overall Progress: 84.0% (79 successful, 0 failed)\n"
     ]
    },
    {
     "name": "stderr",
     "output_type": "stream",
     "text": [
      "2025-08-17 21:52:57,323 - INFO - ⬇️  Downloading BiharAlAnwaar_V80.pdf (Attempt 1/3)\n"
     ]
    },
    {
     "name": "stdout",
     "output_type": "stream",
     "text": [
      "\n",
      "📖 Progress: 80/94 - Volume 80\n"
     ]
    },
    {
     "name": "stderr",
     "output_type": "stream",
     "text": [
      "2025-08-17 21:52:59,139 - INFO - ✅ BiharAlAnwaar_V80.pdf downloaded successfully (3,843,707 bytes)\n"
     ]
    },
    {
     "name": "stdout",
     "output_type": "stream",
     "text": [
      "📊 Overall Progress: 85.1% (80 successful, 0 failed)\n"
     ]
    },
    {
     "name": "stderr",
     "output_type": "stream",
     "text": [
      "2025-08-17 21:53:01,141 - INFO - ⬇️  Downloading BiharAlAnwaar_V81.pdf (Attempt 1/3)\n"
     ]
    },
    {
     "name": "stdout",
     "output_type": "stream",
     "text": [
      "\n",
      "📖 Progress: 81/94 - Volume 81\n"
     ]
    },
    {
     "name": "stderr",
     "output_type": "stream",
     "text": [
      "2025-08-17 21:53:02,865 - INFO - ✅ BiharAlAnwaar_V81.pdf downloaded successfully (4,199,836 bytes)\n"
     ]
    },
    {
     "name": "stdout",
     "output_type": "stream",
     "text": [
      "📊 Overall Progress: 86.2% (81 successful, 0 failed)\n"
     ]
    },
    {
     "name": "stderr",
     "output_type": "stream",
     "text": [
      "2025-08-17 21:53:04,867 - INFO - ⬇️  Downloading BiharAlAnwaar_V82.pdf (Attempt 1/3)\n"
     ]
    },
    {
     "name": "stdout",
     "output_type": "stream",
     "text": [
      "\n",
      "📖 Progress: 82/94 - Volume 82\n"
     ]
    },
    {
     "name": "stderr",
     "output_type": "stream",
     "text": [
      "2025-08-17 21:53:06,800 - INFO - ✅ BiharAlAnwaar_V82.pdf downloaded successfully (4,033,675 bytes)\n"
     ]
    },
    {
     "name": "stdout",
     "output_type": "stream",
     "text": [
      "📊 Overall Progress: 87.2% (82 successful, 0 failed)\n"
     ]
    },
    {
     "name": "stderr",
     "output_type": "stream",
     "text": [
      "2025-08-17 21:53:08,802 - INFO - ⬇️  Downloading BiharAlAnwaar_V83.pdf (Attempt 1/3)\n"
     ]
    },
    {
     "name": "stdout",
     "output_type": "stream",
     "text": [
      "\n",
      "📖 Progress: 83/94 - Volume 83\n"
     ]
    },
    {
     "name": "stderr",
     "output_type": "stream",
     "text": [
      "2025-08-17 21:53:10,686 - INFO - ✅ BiharAlAnwaar_V83.pdf downloaded successfully (5,332,892 bytes)\n"
     ]
    },
    {
     "name": "stdout",
     "output_type": "stream",
     "text": [
      "📊 Overall Progress: 88.3% (83 successful, 0 failed)\n"
     ]
    },
    {
     "name": "stderr",
     "output_type": "stream",
     "text": [
      "2025-08-17 21:53:12,687 - INFO - ⬇️  Downloading BiharAlAnwaar_V84.pdf (Attempt 1/3)\n"
     ]
    },
    {
     "name": "stdout",
     "output_type": "stream",
     "text": [
      "\n",
      "📖 Progress: 84/94 - Volume 84\n"
     ]
    },
    {
     "name": "stderr",
     "output_type": "stream",
     "text": [
      "2025-08-17 21:53:14,509 - INFO - ✅ BiharAlAnwaar_V84.pdf downloaded successfully (4,901,672 bytes)\n"
     ]
    },
    {
     "name": "stdout",
     "output_type": "stream",
     "text": [
      "📊 Overall Progress: 89.4% (84 successful, 0 failed)\n"
     ]
    },
    {
     "name": "stderr",
     "output_type": "stream",
     "text": [
      "2025-08-17 21:53:16,511 - INFO - ⬇️  Downloading BiharAlAnwaar_V85.pdf (Attempt 1/3)\n"
     ]
    },
    {
     "name": "stdout",
     "output_type": "stream",
     "text": [
      "\n",
      "📖 Progress: 85/94 - Volume 85\n"
     ]
    },
    {
     "name": "stderr",
     "output_type": "stream",
     "text": [
      "2025-08-17 21:53:17,462 - INFO - ✅ BiharAlAnwaar_V85.pdf downloaded successfully (2,977,115 bytes)\n"
     ]
    },
    {
     "name": "stdout",
     "output_type": "stream",
     "text": [
      "📊 Overall Progress: 90.4% (85 successful, 0 failed)\n"
     ]
    },
    {
     "name": "stderr",
     "output_type": "stream",
     "text": [
      "2025-08-17 21:53:19,463 - INFO - ⬇️  Downloading BiharAlAnwaar_V86.pdf (Attempt 1/3)\n"
     ]
    },
    {
     "name": "stdout",
     "output_type": "stream",
     "text": [
      "\n",
      "📖 Progress: 86/94 - Volume 86\n"
     ]
    },
    {
     "name": "stderr",
     "output_type": "stream",
     "text": [
      "2025-08-17 21:53:21,372 - INFO - ✅ BiharAlAnwaar_V86.pdf downloaded successfully (4,161,605 bytes)\n"
     ]
    },
    {
     "name": "stdout",
     "output_type": "stream",
     "text": [
      "📊 Overall Progress: 91.5% (86 successful, 0 failed)\n"
     ]
    },
    {
     "name": "stderr",
     "output_type": "stream",
     "text": [
      "2025-08-17 21:53:23,374 - INFO - ⬇️  Downloading BiharAlAnwaar_V87.pdf (Attempt 1/3)\n"
     ]
    },
    {
     "name": "stdout",
     "output_type": "stream",
     "text": [
      "\n",
      "📖 Progress: 87/94 - Volume 87\n"
     ]
    },
    {
     "name": "stderr",
     "output_type": "stream",
     "text": [
      "2025-08-17 21:53:25,544 - INFO - ✅ BiharAlAnwaar_V87.pdf downloaded successfully (5,186,950 bytes)\n"
     ]
    },
    {
     "name": "stdout",
     "output_type": "stream",
     "text": [
      "📊 Overall Progress: 92.6% (87 successful, 0 failed)\n"
     ]
    },
    {
     "name": "stderr",
     "output_type": "stream",
     "text": [
      "2025-08-17 21:53:27,546 - INFO - ⬇️  Downloading BiharAlAnwaar_V88.pdf (Attempt 1/3)\n"
     ]
    },
    {
     "name": "stdout",
     "output_type": "stream",
     "text": [
      "\n",
      "📖 Progress: 88/94 - Volume 88\n"
     ]
    },
    {
     "name": "stderr",
     "output_type": "stream",
     "text": [
      "2025-08-17 21:53:29,393 - INFO - ✅ BiharAlAnwaar_V88.pdf downloaded successfully (4,276,286 bytes)\n"
     ]
    },
    {
     "name": "stdout",
     "output_type": "stream",
     "text": [
      "📊 Overall Progress: 93.6% (88 successful, 0 failed)\n"
     ]
    },
    {
     "name": "stderr",
     "output_type": "stream",
     "text": [
      "2025-08-17 21:53:31,394 - INFO - ⬇️  Downloading BiharAlAnwaar_V89.pdf (Attempt 1/3)\n"
     ]
    },
    {
     "name": "stdout",
     "output_type": "stream",
     "text": [
      "\n",
      "📖 Progress: 89/94 - Volume 89\n"
     ]
    },
    {
     "name": "stderr",
     "output_type": "stream",
     "text": [
      "2025-08-17 21:53:33,480 - INFO - ✅ BiharAlAnwaar_V89.pdf downloaded successfully (6,267,142 bytes)\n"
     ]
    },
    {
     "name": "stdout",
     "output_type": "stream",
     "text": [
      "📊 Overall Progress: 94.7% (89 successful, 0 failed)\n"
     ]
    },
    {
     "name": "stderr",
     "output_type": "stream",
     "text": [
      "2025-08-17 21:53:35,481 - INFO - ⬇️  Downloading BiharAlAnwaar_V90.pdf (Attempt 1/3)\n"
     ]
    },
    {
     "name": "stdout",
     "output_type": "stream",
     "text": [
      "\n",
      "📖 Progress: 90/94 - Volume 90\n"
     ]
    },
    {
     "name": "stderr",
     "output_type": "stream",
     "text": [
      "2025-08-17 21:53:37,715 - INFO - ✅ BiharAlAnwaar_V90.pdf downloaded successfully (7,450,326 bytes)\n"
     ]
    },
    {
     "name": "stdout",
     "output_type": "stream",
     "text": [
      "📊 Overall Progress: 95.7% (90 successful, 0 failed)\n"
     ]
    },
    {
     "name": "stderr",
     "output_type": "stream",
     "text": [
      "2025-08-17 21:53:39,717 - INFO - ⬇️  Downloading BiharAlAnwaar_V91.pdf (Attempt 1/3)\n"
     ]
    },
    {
     "name": "stdout",
     "output_type": "stream",
     "text": [
      "\n",
      "📖 Progress: 91/94 - Volume 91\n"
     ]
    },
    {
     "name": "stderr",
     "output_type": "stream",
     "text": [
      "2025-08-17 21:53:41,880 - INFO - ✅ BiharAlAnwaar_V91.pdf downloaded successfully (7,893,303 bytes)\n"
     ]
    },
    {
     "name": "stdout",
     "output_type": "stream",
     "text": [
      "📊 Overall Progress: 96.8% (91 successful, 0 failed)\n"
     ]
    },
    {
     "name": "stderr",
     "output_type": "stream",
     "text": [
      "2025-08-17 21:53:43,883 - INFO - ⬇️  Downloading BiharAlAnwaar_V92.pdf (Attempt 1/3)\n"
     ]
    },
    {
     "name": "stdout",
     "output_type": "stream",
     "text": [
      "\n",
      "📖 Progress: 92/94 - Volume 92\n"
     ]
    },
    {
     "name": "stderr",
     "output_type": "stream",
     "text": [
      "2025-08-17 21:53:46,204 - INFO - ✅ BiharAlAnwaar_V92.pdf downloaded successfully (8,859,627 bytes)\n"
     ]
    },
    {
     "name": "stdout",
     "output_type": "stream",
     "text": [
      "📊 Overall Progress: 97.9% (92 successful, 0 failed)\n"
     ]
    },
    {
     "name": "stderr",
     "output_type": "stream",
     "text": [
      "2025-08-17 21:53:48,206 - INFO - ⬇️  Downloading BiharAlAnwaar_V93.pdf (Attempt 1/3)\n"
     ]
    },
    {
     "name": "stdout",
     "output_type": "stream",
     "text": [
      "\n",
      "📖 Progress: 93/94 - Volume 93\n"
     ]
    },
    {
     "name": "stderr",
     "output_type": "stream",
     "text": [
      "2025-08-17 21:53:48,946 - INFO - ✅ BiharAlAnwaar_V93.pdf downloaded successfully (6,008,387 bytes)\n"
     ]
    },
    {
     "name": "stdout",
     "output_type": "stream",
     "text": [
      "📊 Overall Progress: 98.9% (93 successful, 0 failed)\n"
     ]
    },
    {
     "name": "stderr",
     "output_type": "stream",
     "text": [
      "2025-08-17 21:53:50,948 - INFO - ⬇️  Downloading BiharAlAnwaar_V94.pdf (Attempt 1/3)\n"
     ]
    },
    {
     "name": "stdout",
     "output_type": "stream",
     "text": [
      "\n",
      "📖 Progress: 94/94 - Volume 94\n"
     ]
    },
    {
     "name": "stderr",
     "output_type": "stream",
     "text": [
      "2025-08-17 21:53:53,059 - INFO - ✅ BiharAlAnwaar_V94.pdf downloaded successfully (6,726,593 bytes)\n"
     ]
    },
    {
     "name": "stdout",
     "output_type": "stream",
     "text": [
      "📊 Overall Progress: 100.0% (94 successful, 0 failed)\n",
      "\n",
      "============================================================\n",
      "📋 DOWNLOAD SUMMARY\n",
      "============================================================\n",
      "✅ Successful downloads: 94/94\n",
      "❌ Failed downloads: 0\n",
      "⏱️  Total time: 8.0 minutes\n",
      "📁 Files saved to: c:\\Users\\sadiq\\OneDrive\\Documents\\projects\\rag-for-ba\\Bihar_Al_Anwaar_PDFs\n"
     ]
    }
   ],
   "source": [
    "# Part 5: Mass Download with Progress Tracking\n",
    "def download_all_volumes(pdf_urls, download_dir, delay_between_downloads=2):\n",
    "    \"\"\"\n",
    "    Download all PDF volumes with progress tracking\n",
    "    \"\"\"\n",
    "    total_volumes = len(pdf_urls)\n",
    "    successful_downloads = 0\n",
    "    failed_downloads = []\n",
    "    \n",
    "    print(f\"🚀 Starting download of {total_volumes} volumes...\")\n",
    "    print(f\"📁 Saving to: {os.path.abspath(download_dir)}\")\n",
    "    print(f\"⏱️  Delay between downloads: {delay_between_downloads} seconds\")\n",
    "    print(\"-\" * 60)\n",
    "    \n",
    "    start_time = time.time()\n",
    "    \n",
    "    for i, (url, filename, volume) in enumerate(pdf_urls, 1):\n",
    "        print(f\"\\n📖 Progress: {i}/{total_volumes} - Volume {volume}\")\n",
    "        \n",
    "        success = download_pdf(url, filename, download_dir)\n",
    "        \n",
    "        if success:\n",
    "            successful_downloads += 1\n",
    "        else:\n",
    "            failed_downloads.append((volume, filename, url))\n",
    "        \n",
    "        # Progress update\n",
    "        progress_percentage = (i / total_volumes) * 100\n",
    "        print(f\"📊 Overall Progress: {progress_percentage:.1f}% ({successful_downloads} successful, {len(failed_downloads)} failed)\")\n",
    "        \n",
    "        # Delay between downloads to be respectful to the server\n",
    "        if i < total_volumes:  # Don't delay after the last download\n",
    "            time.sleep(delay_between_downloads)\n",
    "    \n",
    "    # Final summary\n",
    "    elapsed_time = time.time() - start_time\n",
    "    print(\"\\n\" + \"=\"*60)\n",
    "    print(\"📋 DOWNLOAD SUMMARY\")\n",
    "    print(\"=\"*60)\n",
    "    print(f\"✅ Successful downloads: {successful_downloads}/{total_volumes}\")\n",
    "    print(f\"❌ Failed downloads: {len(failed_downloads)}\")\n",
    "    print(f\"⏱️  Total time: {elapsed_time/60:.1f} minutes\")\n",
    "    print(f\"📁 Files saved to: {os.path.abspath(download_dir)}\")\n",
    "    \n",
    "    if failed_downloads:\n",
    "        print(f\"\\n❌ Failed Downloads:\")\n",
    "        for volume, filename, url in failed_downloads:\n",
    "            print(f\"  - Volume {volume}: {filename}\")\n",
    "    \n",
    "    return successful_downloads, failed_downloads\n",
    "\n",
    "# Start the download process\n",
    "print(\"🎯 Ready to start downloading!\")\n",
    "print(\"⚠️  This will download up to 94 PDF files. Make sure you have sufficient disk space.\")\n",
    "print(\"💡 You can interrupt the process with Ctrl+C if needed.\")\n",
    "\n",
    "# Uncomment the line below when you're ready to start downloading\n",
    "successful, failed = download_all_volumes(pdf_urls, download_dir, delay_between_downloads=2)"
   ]
  },
  {
   "cell_type": "code",
   "execution_count": 21,
   "id": "13a2eb0d",
   "metadata": {},
   "outputs": [
    {
     "name": "stdout",
     "output_type": "stream",
     "text": [
      "✅ Part 6 Complete: Retry functions and utilities defined\n",
      "\n",
      "🎯 To start downloading, uncomment this line in Part 5:\n",
      "# successful, failed = download_all_volumes(pdf_urls, download_dir, delay_between_downloads=2)\n",
      "\n",
      "📋 Available utility functions:\n",
      "- get_download_status() - Check what's been downloaded\n",
      "- retry_failed_downloads(failed_list, download_dir) - Retry failed downloads\n",
      "- check_downloaded_files(download_dir) - Detailed file analysis\n"
     ]
    }
   ],
   "source": [
    "# Part 6: Retry Failed Downloads and Utilities\n",
    "def retry_failed_downloads(failed_downloads, download_dir, max_retries=3):\n",
    "    \"\"\"\n",
    "    Retry downloading failed volumes\n",
    "    \"\"\"\n",
    "    if not failed_downloads:\n",
    "        print(\"✅ No failed downloads to retry!\")\n",
    "        return [], []\n",
    "    \n",
    "    print(f\"🔄 Retrying {len(failed_downloads)} failed downloads...\")\n",
    "    \n",
    "    successful_retries = 0\n",
    "    still_failed = []\n",
    "    \n",
    "    for volume, filename, url in failed_downloads:\n",
    "        print(f\"\\n🔄 Retrying Volume {volume}...\")\n",
    "        success = download_pdf(url, filename, download_dir, max_retries)\n",
    "        \n",
    "        if success:\n",
    "            successful_retries += 1\n",
    "            print(f\"✅ Volume {volume} downloaded successfully on retry!\")\n",
    "        else:\n",
    "            still_failed.append((volume, filename, url))\n",
    "            print(f\"❌ Volume {volume} still failed after retry\")\n",
    "        \n",
    "        time.sleep(2)  # Delay between retries\n",
    "    \n",
    "    print(f\"\\n📊 Retry Summary:\")\n",
    "    print(f\"✅ Successful retries: {successful_retries}\")\n",
    "    print(f\"❌ Still failed: {len(still_failed)}\")\n",
    "    \n",
    "    return successful_retries, still_failed\n",
    "\n",
    "def check_downloaded_files(download_dir):\n",
    "    \"\"\"\n",
    "    Check what files have been downloaded and their sizes\n",
    "    \"\"\"\n",
    "    if not os.path.exists(download_dir):\n",
    "        print(f\"❌ Directory {download_dir} does not exist\")\n",
    "        return\n",
    "    \n",
    "    files = [f for f in os.listdir(download_dir) if f.endswith('.pdf')]\n",
    "    files.sort(key=lambda x: int(x.split('_V')[1].split('.')[0]))  # Sort by volume number\n",
    "    \n",
    "    print(f\"📁 Files in {download_dir}:\")\n",
    "    print(\"-\" * 60)\n",
    "    \n",
    "    total_size = 0\n",
    "    for file in files:\n",
    "        filepath = os.path.join(download_dir, file)\n",
    "        size = os.path.getsize(filepath)\n",
    "        total_size += size\n",
    "        volume_num = file.split('_V')[1].split('.')[0]\n",
    "        print(f\"📖 Volume {volume_num:>2}: {file} ({size:,} bytes)\")\n",
    "    \n",
    "    print(\"-\" * 60)\n",
    "    print(f\"📊 Total files: {len(files)}\")\n",
    "    print(f\"💾 Total size: {total_size:,} bytes ({total_size/1024/1024:.1f} MB)\")\n",
    "    \n",
    "    # Check for missing volumes\n",
    "    expected_volumes = set(range(1, 95))\n",
    "    downloaded_volumes = set()\n",
    "    \n",
    "    for file in files:\n",
    "        try:\n",
    "            volume_num = int(file.split('_V')[1].split('.')[0])\n",
    "            downloaded_volumes.add(volume_num)\n",
    "        except:\n",
    "            pass\n",
    "    \n",
    "    missing_volumes = expected_volumes - downloaded_volumes\n",
    "    if missing_volumes:\n",
    "        missing_sorted = sorted(list(missing_volumes))\n",
    "        print(f\"\\n❌ Missing volumes: {missing_sorted}\")\n",
    "    else:\n",
    "        print(\"\\n✅ All volumes (1-94) have been downloaded!\")\n",
    "\n",
    "# Utility functions\n",
    "def get_download_status():\n",
    "    \"\"\"Quick status check\"\"\"\n",
    "    check_downloaded_files(download_dir)\n",
    "\n",
    "print(\"✅ Part 6 Complete: Retry functions and utilities defined\")\n",
    "print(\"\\n🎯 To start downloading, uncomment this line in Part 5:\")\n",
    "print(\"# successful, failed = download_all_volumes(pdf_urls, download_dir, delay_between_downloads=2)\")\n",
    "print(\"\\n📋 Available utility functions:\")\n",
    "print(\"- get_download_status() - Check what's been downloaded\")\n",
    "print(\"- retry_failed_downloads(failed_list, download_dir) - Retry failed downloads\")\n",
    "print(\"- check_downloaded_files(download_dir) - Detailed file analysis\")"
   ]
  },
  {
   "cell_type": "code",
   "execution_count": 22,
   "id": "61943dbe",
   "metadata": {},
   "outputs": [
    {
     "name": "stdout",
     "output_type": "stream",
     "text": [
      "📁 Files in Bihar_Al_Anwaar_PDFs:\n",
      "------------------------------------------------------------\n",
      "📖 Volume  1: BiharAlAnwaar_V1.pdf (2,282,181 bytes)\n",
      "📖 Volume  2: BiharAlAnwaar_V2.pdf (4,203,450 bytes)\n",
      "📖 Volume  3: BiharAlAnwaar_V3.pdf (3,710,001 bytes)\n",
      "📖 Volume  4: BiharAlAnwaar_V4.pdf (2,951,998 bytes)\n",
      "📖 Volume  5: BiharAlAnwaar_V5.pdf (3,397,830 bytes)\n",
      "📖 Volume  6: BiharAlAnwaar_V6.pdf (3,641,659 bytes)\n",
      "📖 Volume  7: BiharAlAnwaar_V7.pdf (3,881,179 bytes)\n",
      "📖 Volume  8: BiharAlAnwaar_V8.pdf (4,046,060 bytes)\n",
      "📖 Volume  9: BiharAlAnwaar_V9.pdf (3,595,931 bytes)\n",
      "📖 Volume 10: BiharAlAnwaar_V10.pdf (4,955,702 bytes)\n",
      "📖 Volume 11: BiharAlAnwaar_V11.pdf (4,062,586 bytes)\n",
      "📖 Volume 12: BiharAlAnwaar_V12.pdf (2,891,832 bytes)\n",
      "📖 Volume 13: BiharAlAnwaar_V13.pdf (3,170,662 bytes)\n",
      "📖 Volume 14: BiharAlAnwaar_V14.pdf (3,767,734 bytes)\n",
      "📖 Volume 15: BiharAlAnwaar_V15.pdf (2,861,611 bytes)\n",
      "📖 Volume 16: BiharAlAnwaar_V16.pdf (2,888,307 bytes)\n",
      "📖 Volume 17: BiharAlAnwaar_V17.pdf (3,118,462 bytes)\n",
      "📖 Volume 18: BiharAlAnwaar_V18.pdf (3,709,411 bytes)\n",
      "📖 Volume 19: BiharAlAnwaar_V19.pdf (4,140,264 bytes)\n",
      "📖 Volume 20: BiharAlAnwaar_V20.pdf (4,083,685 bytes)\n",
      "📖 Volume 21: BiharAlAnwaar_V21.pdf (4,592,620 bytes)\n",
      "📖 Volume 22: BiharAlAnwaar_V22.pdf (6,740,196 bytes)\n",
      "📖 Volume 23: BiharAlAnwaar_V23.pdf (4,641,892 bytes)\n",
      "📖 Volume 24: BiharAlAnwaar_V24.pdf (5,003,150 bytes)\n",
      "📖 Volume 25: BiharAlAnwaar_V25.pdf (4,106,678 bytes)\n",
      "📖 Volume 26: BiharAlAnwaar_V26.pdf (4,938,905 bytes)\n",
      "📖 Volume 27: BiharAlAnwaar_V27.pdf (4,389,370 bytes)\n",
      "📖 Volume 28: BiharAlAnwaar_V28.pdf (3,440,659 bytes)\n",
      "📖 Volume 29: BiharAlAnwaar_V29.pdf (4,128,445 bytes)\n",
      "📖 Volume 30: BiharAlAnwaar_V30.pdf (4,844,890 bytes)\n",
      "📖 Volume 31: BiharAlAnwaar_V31.pdf (5,800,267 bytes)\n",
      "📖 Volume 32: BiharAlAnwaar_V32.pdf (6,450,014 bytes)\n",
      "📖 Volume 33: BiharAlAnwaar_V33.pdf (7,035,534 bytes)\n",
      "📖 Volume 34: BiharAlAnwaar_V34.pdf (3,960,791 bytes)\n",
      "📖 Volume 35: BiharAlAnwaar_V35.pdf (5,558,344 bytes)\n",
      "📖 Volume 36: BiharAlAnwaar_V36.pdf (6,143,536 bytes)\n",
      "📖 Volume 37: BiharAlAnwaar_V37.pdf (4,145,221 bytes)\n",
      "📖 Volume 38: BiharAlAnwaar_V38.pdf (5,932,230 bytes)\n",
      "📖 Volume 39: BiharAlAnwaar_V39.pdf (5,476,411 bytes)\n",
      "📖 Volume 40: BiharAlAnwaar_V40.pdf (5,765,567 bytes)\n",
      "📖 Volume 41: BiharAlAnwaar_V41.pdf (5,758,703 bytes)\n",
      "📖 Volume 42: BiharAlAnwaar_V42.pdf (5,514,062 bytes)\n",
      "📖 Volume 43: BiharAlAnwaar_V43.pdf (6,936,414 bytes)\n",
      "📖 Volume 44: BiharAlAnwaar_V44.pdf (6,111,774 bytes)\n",
      "📖 Volume 45: BiharAlAnwaar_V45.pdf (7,224,082 bytes)\n",
      "📖 Volume 46: BiharAlAnwaar_V46.pdf (6,352,299 bytes)\n",
      "📖 Volume 47: BiharAlAnwaar_V47.pdf (7,027,403 bytes)\n",
      "📖 Volume 48: BiharAlAnwaar_V48.pdf (5,663,889 bytes)\n",
      "📖 Volume 49: BiharAlAnwaar_V49.pdf (5,669,093 bytes)\n",
      "📖 Volume 50: BiharAlAnwaar_V50.pdf (5,419,224 bytes)\n",
      "📖 Volume 51: BiharAlAnwaar_V51.pdf (5,482,476 bytes)\n",
      "📖 Volume 52: BiharAlAnwaar_V52.pdf (6,212,556 bytes)\n",
      "📖 Volume 53: BiharAlAnwaar_V53.pdf (5,340,513 bytes)\n",
      "📖 Volume 54: BiharAlAnwaar_V54.pdf (3,611,544 bytes)\n",
      "📖 Volume 55: BiharAlAnwaar_V55.pdf (3,859,966 bytes)\n",
      "📖 Volume 56: BiharAlAnwaar_V56.pdf (5,189,134 bytes)\n",
      "📖 Volume 57: BiharAlAnwaar_V57.pdf (4,797,064 bytes)\n",
      "📖 Volume 58: BiharAlAnwaar_V58.pdf (3,345,858 bytes)\n",
      "📖 Volume 59: BiharAlAnwaar_V59.pdf (4,003,215 bytes)\n",
      "📖 Volume 60: BiharAlAnwaar_V60.pdf (4,313,693 bytes)\n",
      "📖 Volume 61: BiharAlAnwaar_V61.pdf (3,557,157 bytes)\n",
      "📖 Volume 62: BiharAlAnwaar_V62.pdf (3,682,716 bytes)\n",
      "📖 Volume 63: BiharAlAnwaar_V63.pdf (6,950,322 bytes)\n",
      "📖 Volume 64: BiharAlAnwaar_V64.pdf (4,169,019 bytes)\n",
      "📖 Volume 65: BiharAlAnwaar_V65.pdf (5,261,490 bytes)\n",
      "📖 Volume 66: BiharAlAnwaar_V66.pdf (4,329,551 bytes)\n",
      "📖 Volume 67: BiharAlAnwaar_V67.pdf (5,247,335 bytes)\n",
      "📖 Volume 68: BiharAlAnwaar_V68.pdf (5,478,298 bytes)\n",
      "📖 Volume 69: BiharAlAnwaar_V69.pdf (4,256,285 bytes)\n",
      "📖 Volume 70: BiharAlAnwaar_V70.pdf (3,877,607 bytes)\n",
      "📖 Volume 71: BiharAlAnwaar_V71.pdf (6,254,049 bytes)\n",
      "📖 Volume 72: BiharAlAnwaar_V72.pdf (7,155,214 bytes)\n",
      "📖 Volume 73: BiharAlAnwaar_V73.pdf (7,389,599 bytes)\n",
      "📖 Volume 74: BiharAlAnwaar_V74.pdf (7,042,597 bytes)\n",
      "📖 Volume 75: BiharAlAnwaar_V75.pdf (8,174,884 bytes)\n",
      "📖 Volume 76: BiharAlAnwaar_V76.pdf (4,914,822 bytes)\n",
      "📖 Volume 77: BiharAlAnwaar_V77.pdf (3,730,622 bytes)\n",
      "📖 Volume 78: BiharAlAnwaar_V78.pdf (4,784,489 bytes)\n",
      "📖 Volume 79: BiharAlAnwaar_V79.pdf (4,545,866 bytes)\n",
      "📖 Volume 80: BiharAlAnwaar_V80.pdf (3,843,707 bytes)\n",
      "📖 Volume 81: BiharAlAnwaar_V81.pdf (4,199,836 bytes)\n",
      "📖 Volume 82: BiharAlAnwaar_V82.pdf (4,033,675 bytes)\n",
      "📖 Volume 83: BiharAlAnwaar_V83.pdf (5,332,892 bytes)\n",
      "📖 Volume 84: BiharAlAnwaar_V84.pdf (4,901,672 bytes)\n",
      "📖 Volume 85: BiharAlAnwaar_V85.pdf (2,977,115 bytes)\n",
      "📖 Volume 86: BiharAlAnwaar_V86.pdf (4,161,605 bytes)\n",
      "📖 Volume 87: BiharAlAnwaar_V87.pdf (5,186,950 bytes)\n",
      "📖 Volume 88: BiharAlAnwaar_V88.pdf (4,276,286 bytes)\n",
      "📖 Volume 89: BiharAlAnwaar_V89.pdf (6,267,142 bytes)\n",
      "📖 Volume 90: BiharAlAnwaar_V90.pdf (7,450,326 bytes)\n",
      "📖 Volume 91: BiharAlAnwaar_V91.pdf (7,893,303 bytes)\n",
      "📖 Volume 92: BiharAlAnwaar_V92.pdf (8,859,627 bytes)\n",
      "📖 Volume 93: BiharAlAnwaar_V93.pdf (6,008,387 bytes)\n",
      "📖 Volume 94: BiharAlAnwaar_V94.pdf (6,726,593 bytes)\n",
      "------------------------------------------------------------\n",
      "📊 Total files: 94\n",
      "💾 Total size: 465,209,265 bytes (443.7 MB)\n",
      "\n",
      "✅ All volumes (1-94) have been downloaded!\n"
     ]
    }
   ],
   "source": [
    "get_download_status()"
   ]
  },
  {
   "cell_type": "code",
   "execution_count": null,
   "id": "0d47485f",
   "metadata": {},
   "outputs": [],
   "source": []
  }
 ],
 "metadata": {
  "kernelspec": {
   "display_name": "venv",
   "language": "python",
   "name": "python3"
  },
  "language_info": {
   "codemirror_mode": {
    "name": "ipython",
    "version": 3
   },
   "file_extension": ".py",
   "mimetype": "text/x-python",
   "name": "python",
   "nbconvert_exporter": "python",
   "pygments_lexer": "ipython3",
   "version": "3.13.3"
  }
 },
 "nbformat": 4,
 "nbformat_minor": 5
}
